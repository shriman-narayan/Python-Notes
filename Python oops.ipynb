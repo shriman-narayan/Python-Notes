{
 "cells": [
  {
   "cell_type": "code",
   "execution_count": null,
   "metadata": {},
   "outputs": [],
   "source": [
    "     ############   ############   Python oops Concept   ###########   #############\n",
    "    \n",
    " =>  Class is something like a category of an object or classification of a real world entity.\n",
    "\n",
    " =>  string, float, integer, list, tuples, set, dictionary all are different types of classes.\n",
    "    \n",
    " =>  objects, instance, variables all are similar things and belongs to a class.\n",
    "        \n",
    "    \n",
    "           class   -->    Person           Animal          car\n",
    "        \n",
    "           object  -->   shriman           Lion            Audi\n",
    "            \n",
    " \n",
    "    >>>  string = 'abc'\n",
    "    >>>  print (type('abc'))   -->  <class 'str'>   So, we can say that string 'abc' is an object \n",
    "                                                           of a string class.\n",
    "    \n",
    "    \n",
    " =>  class keyword is used to create a class.\n",
    "\n",
    " =>  Creating a class with pass statement.\n",
    "\n",
    "        >>> class person:\n",
    "                pass\n",
    "    \n",
    " =>  Attributes are the variables that belongs to a class.\n",
    "\n",
    " =>  Attributes can be accessed using dot (.) operator.\n",
    "        \n",
    "         >>> person.attribute   \n",
    "    \n",
    " =>  Method is a bunch of code that is intended to perform a particular task in your Python’s code.\n",
    "\n",
    " =>  Method is a type of function that belongs to a particular class and can be created by using def keyword.\n",
    "    \n",
    " =>  self should be the necessary and 1st argument of any method in a class.\n",
    "\n",
    " =>  Instance variables are variables whose value is assigned inside a constructor or method with self.\n",
    "    \n",
    " =>  Class variables are variables whose value is assigned in class."
   ]
  },
  {
   "cell_type": "code",
   "execution_count": 1,
   "metadata": {},
   "outputs": [
    {
     "data": {
      "text/plain": [
       "'sudh'"
      ]
     },
     "execution_count": 1,
     "metadata": {},
     "output_type": "execute_result"
    }
   ],
   "source": [
    "#          ##########   Defining a User defined method inside the class   ############\n",
    "\n",
    "class person:\n",
    "    \n",
    "    def __init__(self, name, surname, yob):\n",
    "            \n",
    "            self.Name = name\n",
    "            self.Surname = surname\n",
    "            self.Yob = 1997\n",
    "            \n",
    "    def test(self):\n",
    "            return self.Yob\n",
    "    \n",
    "    def __str__(self):\n",
    "        \n",
    "        print (\"This __str__() always returns a string.\")\n",
    "        \n",
    "        return \"%s is firstname and it's surname is %s & his year of birth is %d. \"  % (self.Name, self.Surname, self.Yob)\n",
    "        \n",
    "# Creating object of the class person\n",
    "p = person('sudh', 'kumar', 1997)\n",
    "a = person('shriman', 'narayan', 1997)\n",
    "\n",
    "# calling class variables and methods\n",
    "p.Name"
   ]
  },
  {
   "cell_type": "code",
   "execution_count": null,
   "metadata": {},
   "outputs": [],
   "source": [
    " \n",
    " \n",
    " =>  __init__() is an in-built method of Python oops concept and is used for initialising and defining variables \n",
    "                 inside a class.\n",
    "        \n",
    " =>  self is a pointer or reference to the class and is must to be used alway as the 1st argument of \n",
    "         __init__() method or in any user-defined method. We can take any other character instead of self.\n",
    "\n",
    " => (name, surname and yob) are arguments of __init__() method and assigns values to the original variables\n",
    "\n",
    "        (Name, Surname, Yob) of class person.\n",
    "\n",
    " \n",
    " => Dataset ('name', 'surname', 'yob') passes through the __init__() method and, then get stored to a variable \n",
    "        and generate an object p regarding the class person\n",
    "    \n",
    "      >>>  p = person('name', 'surname', 'yob')    # This returns an object 'p' .\n",
    "\n",
    " \n",
    " =>  (Name, Surname, Yob) are known as original variables of class person.\n",
    "\n",
    " =>  We can create any no. of variables regarding a class.\n",
    "\n",
    " =>  Values to the variables are assigned by referencing them with 'self' keyword.\n",
    "    \n",
    "      >>>  self.name = name\n",
    "      >>>  self.Surname = surname\n",
    "  \n",
    " \n",
    " =>  for accessing any variables or methods inside the class, take reference with 'self' keyword.\n",
    "       e.g.  look return statement of test(self).\n",
    "\n",
    "\n",
    " =>  for accessing any variables or methods outside the class, take reference to the object 'p' .\n",
    "    \n",
    "         >>>  p.Name    \n",
    "         >>>  a.Surname\n",
    "         >>>  p.test()\n",
    "\n",
    " =>  Any no. of methods can be defined inside a class.\n",
    "\n",
    " =>  __str__() is an inbuilt method, which always return a string and is used for providing \n",
    "                 some valuable informations.\n",
    "    \n",
    " =>  for calling this __str__() method , we passes object thru the print() method.\n",
    "\n",
    "       >>> print(p)  \n",
    "    \n",
    " =>  %s is used for strings and %d is used for floats or decimal values.\n"
   ]
  },
  {
   "cell_type": "code",
   "execution_count": null,
   "metadata": {},
   "outputs": [],
   "source": [
    " \n",
    " =>  NOTE -->  Parentheses can be used in creation of class .\n",
    "\n",
    "     >>>  class person()\n",
    "    \n",
    "=>  NOTE -->  Always use parenthese, in generating an object of a class.\n",
    "    \n",
    "     >>>  p = person()"
   ]
  },
  {
   "cell_type": "code",
   "execution_count": null,
   "metadata": {},
   "outputs": [],
   "source": [
    "#      ############   #########  Passing data to class variables using Empty classses   #########   ############\n",
    "\n",
    "# Creating an Empty class\n",
    "class Empty_class:\n",
    "    pass\n",
    "\n",
    "# Making an object\n",
    "E = Empty_class()\n",
    "\n",
    "# Passing data to variables\n",
    "E.name = 'Shriman'\n",
    "E.surname = 'Narayan'\n",
    "E.yob = 1997"
   ]
  },
  {
   "cell_type": "code",
   "execution_count": null,
   "metadata": {},
   "outputs": [],
   "source": [
    "#   ###########   Passing data to a class variables using User defined methods   #############\n",
    "\n",
    "class person:\n",
    "    \n",
    "    # Defining User-defined methods\n",
    "    \n",
    "    def pass_name(self, name):\n",
    "        self.Name = name\n",
    "        \n",
    "    def pass_surname(self, surname):\n",
    "        self.Surname = surname\n",
    "        \n",
    "    def pass_yob(self, yob):\n",
    "        self.Yob = yob\n",
    "        \n",
    "\n",
    "p = person()\n",
    "\n",
    "# passing values to variables\n",
    "p.pass_name('Shriman')\n",
    "p.pass_surname('Narayan')\n",
    "p.pass_yob(1997)\n"
   ]
  },
  {
   "cell_type": "code",
   "execution_count": null,
   "metadata": {},
   "outputs": [],
   "source": [
    " =>>  NOTE -->  __init__() method should be use instead of other methods for passing data to variables\n",
    "                            inside a class."
   ]
  },
  {
   "cell_type": "code",
   "execution_count": null,
   "metadata": {},
   "outputs": [],
   "source": [
    " =>  p.__dict__   -> This returns a dictionary and shows how the data has been stored inside a class.\n",
    "    \n",
    "    >>>  p.__dict__  ->  {'Name': 'Shriman', 'Surname': 'Narayan', 'Yob': 1997}"
   ]
  },
  {
   "cell_type": "code",
   "execution_count": null,
   "metadata": {},
   "outputs": [],
   "source": [
    "     ###########     ############    Abstraction in Python    ############    ###############\n",
    "    \n",
    " =>  __ (Double underscores) are used before the attribute name to make it hidden and not visible directly outside.\n",
    "\n",
    " =>  In below code, we are incrementing the value of hidden variable, and it is succesfully executing.\n",
    "    \n",
    " =>  Printing the value of hidden variable by using print() is raising an AttributeError.\n",
    "\n",
    " =>  Value of hidden variable can be printed by using -\n",
    "    \n",
    "        >>>  print(myObject._MyClass__hiddenVariable)"
   ]
  },
  {
   "cell_type": "code",
   "execution_count": 4,
   "metadata": {},
   "outputs": [
    {
     "name": "stdout",
     "output_type": "stream",
     "text": [
      "2\n",
      "7\n",
      "7\n"
     ]
    }
   ],
   "source": [
    "# Python program to show the working of hidden variables\n",
    "\n",
    "class MyClass: \n",
    "    \n",
    "    __hiddenVariable = 0\n",
    "    \n",
    "    def add(self, increment): \n",
    "        self.__hiddenVariable += increment \n",
    "        print (self.__hiddenVariable) \n",
    "\n",
    "# Driver code \n",
    "myObject = MyClass() \n",
    "myObject.add(2) \n",
    "myObject.add(5) \n",
    "\n",
    "# This line causes error \n",
    "# print (myObject.__hiddenVariable) \n",
    "\n",
    "# printing the value of __hiddenvariable\n",
    "print(myObject._MyClass__hiddenVariable)\n"
   ]
  },
  {
   "cell_type": "code",
   "execution_count": null,
   "metadata": {},
   "outputs": [],
   "source": [
    "    ###########    ###########   Printing Objects in Python    #############    ##############\n",
    "    \n",
    " =>  Printing the obkjects gives some valuable information.\n",
    "\n",
    " =>  __str__() and __repr__() methods are used for printing the objects.\n",
    "    \n",
    " =>  If no __str__ method is defined, print t (or print str(t)) uses __repr__.\n",
    "\n",
    " =>  If no __repr__ method is defined then the default is used"
   ]
  },
  {
   "cell_type": "code",
   "execution_count": 10,
   "metadata": {},
   "outputs": [
    {
     "name": "stdout",
     "output_type": "stream",
     "text": [
      "Test a:1234  &  b:5678\n",
      "[<__main__.Test object at 0x7fe37df58750>]\n"
     ]
    }
   ],
   "source": [
    "# Python Program to show the use of __str__() and __repr__() method\n",
    "\n",
    "class Test():\n",
    "    \n",
    "    def __init__(self, a, b): \n",
    "        self.a = a \n",
    "        self.b = b \n",
    "    \n",
    "    \n",
    "    def __str__(self):\n",
    "        return \"Test a:%s  &  b:%s\" % (self.a, self.b)\n",
    "\n",
    "    def __repr__(self):\n",
    "        return \"Test a:%s  &  b:%s\" % (self.a, self.b) \n",
    "    \n",
    "# Driver code\n",
    "t = Test(1234, 5678) \n",
    "\n",
    "print(t)                    # This calls __str__() \n",
    "\n",
    "print([t])                  # This calls __repr__()"
   ]
  },
  {
   "cell_type": "code",
   "execution_count": null,
   "metadata": {},
   "outputs": [],
   "source": [
    "       ###########    ###########   Inheritance in python oops   ###########   ##############\n",
    "    \n",
    " =>  Inheritance is defined as a way in which a particular class inherits features from its base class.\n",
    "    \n",
    " =>  Base class is also knows as super class (or Parent class ) and the class which inherits from the super class \n",
    "        is knows as subclass ( Child class ).\n",
    "    \n",
    " =>  super class should be pass thru the sub class.\n",
    "    \n",
    " =>  Add this line as the logic of __init__() method in sub class and *args should be its one argument.\n",
    "        \n",
    "         \n",
    "         >>> class subclass(superclass):\n",
    "            \n",
    "                 def __init__(self, *args):\n",
    "                     super (student, self).__init__(*args) \n",
    "    \n",
    " =>  Inherited features are get printed with the reference of object of subclass.\n",
    "\n",
    "        >>>  subclass.methods()\n",
    "        >>>  subclass.variables\n",
    "    \n",
    " =>  The benefits of inheritance are -->\n",
    "\n",
    "        * It represents real-world relationships well.\n",
    "      \n",
    "        * It provides reusability of a codeand it allows us to add more features to a class without modifying it.\n",
    "\n",
    "        * It is transitive in nature, which means that if class B inherits from another class A, \n",
    "               then all the subclasses of B would automatically inherit from class A."
   ]
  },
  {
   "cell_type": "code",
   "execution_count": null,
   "metadata": {},
   "outputs": [],
   "source": [
    " =>  issubclass(Derived class, Base class) -> This is used to check, if a class is subclass of another or not.\n",
    "    \n",
    " =>  isinstance(object, class)  ->  This checks if an object belongs to a particular class or not. "
   ]
  },
  {
   "cell_type": "code",
   "execution_count": 12,
   "metadata": {},
   "outputs": [
    {
     "name": "stdout",
     "output_type": "stream",
     "text": [
      "My name is Shriman.\n",
      "My name is sudh.\n"
     ]
    }
   ],
   "source": [
    "#  Python program to show the Multiple Inheritance\n",
    "\n",
    "class A:\n",
    "    \n",
    "    def test(self):\n",
    "        print (\"My name is Shriman.\")\n",
    "        \n",
    "class B:\n",
    "    \n",
    "    def test(self):\n",
    "        print (\"My name is sudh.\")\n",
    "        \n",
    "# inheriting the properties in class C\n",
    "\n",
    "class C(A, B):                    # This class behaves like a function during Inheriotance\n",
    "    objectA = A()\n",
    "    objectB = B()\n",
    "    \n",
    "    # Printing the values inherited inside the class\n",
    "    objectA.test()\n",
    "    objectB.test()\n",
    "    \n"
   ]
  },
  {
   "cell_type": "code",
   "execution_count": null,
   "metadata": {},
   "outputs": [],
   "source": [
    "#  Python program to show how to access the parent members in sub class? \n",
    "\n",
    "class Base(object): \n",
    "\n",
    "\t# Constructor \n",
    "\tdef __init__(self, x): \n",
    "\t\tself.x = x\t \n",
    "\n",
    "class Derived(Base): \n",
    "\n",
    "\t# Constructor \n",
    "\tdef __init__(self, x, y): \n",
    "\t\tBase.x = x \n",
    "\t\tself.y = y \n",
    "\n",
    "\tdef printXY(self): \n",
    "\t\n",
    "\t# print(self.x, self.y) will also work \n",
    "\tprint(Base.x, self.y) \n",
    "\n",
    "\n",
    "# Driver Code \n",
    "d = Derived(10, 20) \n",
    "d.printXY() \n"
   ]
  },
  {
   "cell_type": "code",
   "execution_count": null,
   "metadata": {},
   "outputs": [],
   "source": [
    "#  Python program to show using super to access the parent class memebers.\n",
    "\n",
    "# Python example to show that base \n",
    "# class members can be accessed in \n",
    "# derived class using super() \n",
    "class Base(object): \n",
    "\n",
    "\t# Constructor \n",
    "\tdef __init__(self, x): \n",
    "\t\tself.x = x\t \n",
    "\n",
    "class Derived(Base): \n",
    "\n",
    "\t# Constructor \n",
    "\tdef __init__(self, x, y): \n",
    "\t\t\n",
    "\t\t''' In Python 3.x, \"super().__init__(name)\" \n",
    "\t\t\talso works'''\n",
    "\t\tsuper(Derived, self).__init__(x) \n",
    "\t\tself.y = y \n",
    "\n",
    "\tdef printXY(self): \n",
    "\n",
    "\t# Note that Base.x won't work here \n",
    "\t# because super() is used in constructor \n",
    "\tprint(self.x, self.y) \n",
    "\n",
    "\n",
    "# Driver Code \n",
    "d = Derived(10, 20) \n",
    "d.printXY() \n"
   ]
  },
  {
   "cell_type": "code",
   "execution_count": null,
   "metadata": {},
   "outputs": [],
   "source": [
    "      ##########    ###########   Method overloading in Python    ###########    #############\n",
    "    \n",
    " =>  When there are two methods with a similar name and different arguments defined in code, then only the latest \n",
    "       defined method will work for you. calling the previous method will raise a TypeError.\n",
    "    \n",
    "                                  \n",
    "                                  !           \n",
    "        def product(a, b):        !               def product(a, b, c):\n",
    "              p = a*b             !                   p = a*b*c\n",
    "              print (p)           !                   print (p)\n",
    "                                  !\n",
    "    \n",
    " =>  for overcoming this, Method overloading comes into picture.\n",
    "\n",
    " =>  Multiple dispatch operator is uses for Methods overloading in Python.\n",
    "    \n",
    " =>  In Backend, Dispatcher creates an object which stores different implementation and on runtime it selects \n",
    "        the appropriate method as the type and number of parameters passed.\n",
    "\n",
    " =>  for installing Multiple Dispatch Operator, ---->   pip3 install multipledispatch "
   ]
  },
  {
   "cell_type": "code",
   "execution_count": 23,
   "metadata": {},
   "outputs": [
    {
     "name": "stdout",
     "output_type": "stream",
     "text": [
      "6\n"
     ]
    }
   ],
   "source": [
    "# Python program to shoe method overloading by using multiple dispatch operator.\n",
    "\n",
    "#  Importing the Dispatch operator\n",
    "from multipledispatch import dispatch \n",
    "  \n",
    "#passing one parameter \n",
    "@dispatch(int,int) \n",
    "def product(first,second): \n",
    "    return first*second \n",
    "    \n",
    "  \n",
    "#you can also pass data type of any value as per requirement \n",
    "@dispatch(float,float,float) \n",
    "def product(first,second,third): \n",
    "    return first*second*third \n",
    "    \n",
    "  \n",
    "#calling product method with 2 arguments \n",
    "\n",
    "product(1, 2, 3)"
   ]
  },
  {
   "cell_type": "code",
   "execution_count": 41,
   "metadata": {},
   "outputs": [
    {
     "name": "stdout",
     "output_type": "stream",
     "text": [
      "My name is shriman and I am a student.\n"
     ]
    }
   ],
   "source": [
    "# Python program to show the Method - overriding \n",
    "\n",
    "class person():\n",
    "    \n",
    "    def __init__(self, student):\n",
    "        self.student = student\n",
    "        \n",
    "        \n",
    "        \n",
    "    def __str__(self):\n",
    "        return \"My name is shriman\"\n",
    "    \n",
    "p = person('shriman')\n",
    "\n",
    "# defining a new class student\n",
    "\n",
    "class student(person):\n",
    "    \n",
    "    def __init__(self, student_id, *args):\n",
    "        super(student, self).__init__(*args)\n",
    "        self.student_id = student_id\n",
    "                \n",
    "    def __str__(self):\n",
    "        return super(student,self).__str__() + \" and I am a student.\"\n",
    "    \n",
    "s = student(4, 5)\n",
    "print (s)"
   ]
  },
  {
   "cell_type": "code",
   "execution_count": null,
   "metadata": {},
   "outputs": [],
   "source": [
    "        ###########  ###########  Encapsulation Method   #############    ##############\n",
    "    \n",
    " =>  Encapsulation is one of the fundamental concepts in object-oriented programming (OOP). \n",
    " \n",
    " =>  It describes the idea of wrapping data and the methods that work on data within one unit. \n",
    " \n",
    " =>  This puts restrictions on accessing variables and methods directly and can prevent the accidental \n",
    "       modification of data. \n",
    " \n",
    " =>  To prevent accidental change, an object’s variable can only be changed by an object’s method. \n",
    "           Those type of variables are known as private varibale.\n",
    "\n",
    " =>  A class is an example of encapsulation as it encapsulates all the data that is member functions, variables,\n",
    "        etc."
   ]
  },
  {
   "cell_type": "markdown",
   "metadata": {},
   "source": [
    "<img src = 'images/encapsulation.png'>"
   ]
  },
  {
   "cell_type": "code",
   "execution_count": 3,
   "metadata": {},
   "outputs": [
    {
     "name": "stdout",
     "output_type": "stream",
     "text": [
      "abc  def   ghi\n"
     ]
    }
   ],
   "source": [
    "#   Python program to show the encapsulation in Python Oops\n",
    "# Creating 3 different classes sand then encapsulate them into a different class\n",
    "\n",
    "# Defining class tyre\n",
    "class tyre:\n",
    "\n",
    "    def __init__(self, branch, base, opt_pre):\n",
    "        self.branch = branch\n",
    "        self.base = base\n",
    "        self.opt_pre = opt_pre\n",
    "\n",
    "    def __str__(self):\n",
    "        return str(self.branch) + \"    \" + str(self.base) + \"    \" +  str(self.opt_pre)\n",
    "\n",
    "t = tyre('xy', 56, 33)\n",
    "\n",
    "\n",
    "# Defining class engine\n",
    "class engine:\n",
    "\n",
    "    def __init__(self, fuel_type, noise_level):\n",
    "        self.fuel_type = fuel_type\n",
    "        self.noise_level = noise_level\n",
    "\n",
    "    def __str__(self):\n",
    "        return str(self.noise_level) + \"   \" + str(self.fuel_type)\n",
    "\n",
    "e = engine('petrol', 56)\n",
    "\n",
    "\n",
    "# defining 3rd class body\n",
    "class body:\n",
    "\n",
    "    def __init__(self, body_size):\n",
    "        self.body_size = body_size\n",
    "\n",
    "    def __str__(self):\n",
    "        return \"This is my def of engine class.\" + \"   \" + str(self.body_size)\n",
    "\n",
    "b  = body('small')\n",
    "\n",
    "# encapsulating all 3 classes into a new class car\n",
    "class car:\n",
    "    \n",
    "    def __init__(self, t, e, b):\n",
    "        self.t = t\n",
    "        self.e = e\n",
    "        self.b = b\n",
    "        \n",
    "    def __str__(self):\n",
    "        return str(self.t) + \"  \" + str(self.e) + \"   \"+ str(self.b)\n",
    "    \n",
    "c = car(\"abc\", \"def\", 'ghi')\n",
    "\n",
    "print (c)"
   ]
  },
  {
   "cell_type": "code",
   "execution_count": null,
   "metadata": {},
   "outputs": [],
   "source": [
    " =>  There are 2 types of encapsulation available in Python.\n",
    "    \n",
    "   * Composite Encapsulation ->  In this, We can pass only objects thru a class.\n",
    "\n",
    "   * Dynamic Encapsulation ->  In this, we can pass a combination of objects and some other dataset or values\n",
    "                                like as string, variables etc."
   ]
  },
  {
   "cell_type": "code",
   "execution_count": null,
   "metadata": {},
   "outputs": [],
   "source": [
    "       ###########  ###########  Polymorphism in Python   #############    ##############\n",
    "    \n",
    " =>  Polymorphism means Different behaviour in diferent different situations."
   ]
  },
  {
   "cell_type": "code",
   "execution_count": 4,
   "metadata": {},
   "outputs": [
    {
     "name": "stdout",
     "output_type": "stream",
     "text": [
      "sudhkumar\n",
      "7\n",
      "[1, 2, 3, 4, 5, 6]\n"
     ]
    }
   ],
   "source": [
    "#  Python program to show the polymorphism \n",
    "\n",
    "#  Defining a function\n",
    "def add(a,b):\n",
    "    return a+b\n",
    "\n",
    "# Calling above add() method over different different datasets\n",
    "\n",
    "print (add(\"sudh\", 'kumar'))\n",
    "print (add(3, 4))\n",
    "print (add([1, 2, 3], [4, 5, 6]))"
   ]
  },
  {
   "cell_type": "code",
   "execution_count": null,
   "metadata": {},
   "outputs": [],
   "source": [
    "       ##########   ##########  Polymorphism with class methods   ############    #############\n",
    "\n",
    " =>  Below code shows how python can use two different class types, in the same way. \n",
    "\n",
    " =>  We create a for loop that iterates through a tuple of objects. \n",
    "    \n",
    " =>  Then call the methods without being concerned about which class type each object is.\n",
    "\n",
    " =>  We assume that these methods actually exist in each class."
   ]
  },
  {
   "cell_type": "code",
   "execution_count": null,
   "metadata": {},
   "outputs": [],
   "source": [
    "       ############    #############   Polymorphism with Inheritance   #############    #############\n",
    "    \n",
    " =>  In Python, Polymorphism lets us define methods in the child class that have the same name as the methods\n",
    "        in the parent class. \n",
    "    \n",
    " =>  In inheritance, the child class inherits the methods from the parent class. \n",
    "\n",
    " =>  However, it is possible to modify a method in a child class that it has inherited from the parent class.\n",
    "    \n",
    " =>  This is particularly useful in cases where the method inherited from the parent class doesn’t quite fit \n",
    "       the child class.\n",
    "    \n",
    " =>  In such cases, we re-implement the method in the child class.\n",
    "\n",
    " =>  This process of re-implementing a method in the child class is known as Method Overriding. "
   ]
  },
  {
   "cell_type": "code",
   "execution_count": null,
   "metadata": {},
   "outputs": [],
   "source": [
    "    #############    ###########   Polymoprphism with functions and objects  ###########    ############\n",
    "    \n",
    " =>  It is also possible to create a function that can take any object, allowing for polymorphism. \n",
    "\n",
    " =>  In this example, let’s create a function called “func()” which will take an object which we will name “obj”.\n",
    "    \n",
    " =>  Though we are using the name ‘obj’, any instantiated object will be able to be called into this function. \n",
    "\n",
    " =>  Next, lets give the function something to do that uses the ‘obj’ object we passed to it. \n",
    "    \n",
    " =>  In this case lets call the three methods, viz., capital(), language() and type(), each of which is \n",
    "       defined in the two classes ‘India’ and ‘USA’.\n",
    "    \n",
    " =>  Next, let’s create instantiations of both the ‘India’ and ‘USA’ classes if we don’t have them already.\n",
    "\n",
    " =>  With those, we can call their action using the same func() function:"
   ]
  },
  {
   "cell_type": "code",
   "execution_count": null,
   "metadata": {},
   "outputs": [],
   "source": [
    "def func(obj): \n",
    "\tobj.capital() \n",
    "\tobj.language() \n",
    "\tobj.type() \n",
    "\n",
    "obj_ind = India() \n",
    "obj_usa = USA() \n",
    "\n",
    "func(obj_ind) \n",
    "func(obj_usa) \n"
   ]
  },
  {
   "cell_type": "code",
   "execution_count": null,
   "metadata": {},
   "outputs": [],
   "source": [
    "# implementing polymorphism with a function\n",
    "\n",
    "class India(): \n",
    "\tdef capital(self): \n",
    "\t\tprint(\"New Delhi is the capital of India.\") \n",
    "\n",
    "\tdef language(self): \n",
    "\t\tprint(\"Hindi is the most widely spoken language of India.\") \n",
    "\n",
    "\tdef type(self): \n",
    "\t\tprint(\"India is a developing country.\") \n",
    "\n",
    "class USA(): \n",
    "\tdef capital(self): \n",
    "\t\tprint(\"Washington, D.C. is the capital of USA.\") \n",
    "\n",
    "\tdef language(self): \n",
    "\t\tprint(\"English is the primary language of USA.\") \n",
    "\n",
    "\tdef type(self): \n",
    "\t\tprint(\"USA is a developed country.\") \n",
    "\n",
    "def func(obj): \n",
    "\tobj.capital() \n",
    "\tobj.language() \n",
    "\tobj.type() \n",
    "\n",
    "obj_ind = India() \n",
    "obj_usa = USA() \n",
    "\n",
    "func(obj_ind) \n",
    "func(obj_usa) \n"
   ]
  }
 ],
 "metadata": {
  "kernelspec": {
   "display_name": "Python 3",
   "language": "python",
   "name": "python3"
  },
  "language_info": {
   "codemirror_mode": {
    "name": "ipython",
    "version": 3
   },
   "file_extension": ".py",
   "mimetype": "text/x-python",
   "name": "python",
   "nbconvert_exporter": "python",
   "pygments_lexer": "ipython3",
   "version": "3.7.7"
  }
 },
 "nbformat": 4,
 "nbformat_minor": 4
}
