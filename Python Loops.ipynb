{
 "cells": [
  {
   "cell_type": "markdown",
   "metadata": {},
   "source": [
    "        ############    #############   Python Loops   #############   ##############   \n",
    "    \n",
    " =>  Python programming language provides following types of loops to handle looping requirements. \n",
    "\n",
    " =>  Python provides three ways for executing the loops. \n",
    "        \n",
    " =>  While all the ways provide similar basic functionality, they differ in their syntax and \n",
    "         condition checking time.\n",
    "    \n",
    "=>  All the statements indented by the same number of character spaces after a programming construct are \n",
    "       considered to be part of a single block of code. \n",
    "    \n",
    " =>  Python uses indentation as its method of grouping statements."
   ]
  },
  {
   "cell_type": "markdown",
   "metadata": {},
   "source": [
    "    ############    #############   While Loop   #############   ##############   \n",
    "    \n",
    " =>  while loop is get executed only when, if the condition evaluates True otherwise it bypasses the loop.\n",
    "\n",
    " =>  And when the condition becomes false, the line immediately after the loop in program is executed.  \n",
    "    \n",
    "    \n",
    "      Syntax -->\n",
    "        \n",
    "                  while expression:\n",
    "                        statement(s)\n",
    "                    \n",
    "                  statement(s)"
   ]
  },
  {
   "cell_type": "code",
   "execution_count": null,
   "metadata": {},
   "outputs": [],
   "source": [
    "# Python program to illustrate while loop\n",
    "\n",
    "count = 0\n",
    "\n",
    "while (count < 10):\n",
    "    print(\"Hello Geek\")\n",
    "    count = count + 1 \n"
   ]
  },
  {
   "cell_type": "markdown",
   "metadata": {},
   "source": [
    "  =>  In above code, our count is equal to '0' and condition of while loop is True.\n",
    "     \n",
    "  =>  while loop will be executed and print the statement\n",
    " \n",
    "  =>  After print statement, count = count + 1 is re assigning the value to count variable by adding 1.\n",
    "\n",
    "  =>  Then our count becomes 1 and so condition is still true, same process occurs and count will become 2.\n",
    "    \n",
    "  =>  All above process will be repeated until our condition is True.\n",
    "\n",
    "  =>  When the condition becomes False, we get out from the while loop.\n",
    "\n",
    "  "
   ]
  },
  {
   "cell_type": "markdown",
   "metadata": {},
   "source": [
    "     ##############   #############   Using else statement with while loops    ###############    ###############\n",
    "    \n",
    " =>  while loop executes the block until a condition is satisfied.\n",
    "\n",
    " =>  When the condition becomes false, the statement immediately after the loop is executed.\n",
    "\n",
    " =>  The else clause is only executed when your while condition becomes false. \n",
    "\n",
    " =>  If you break out of the loop, or if an exception is raised, it won’t be executed.\n",
    "    \n",
    " \n",
    " Syntax ->      while-else statements\n",
    "        \n",
    "                while condition:\n",
    "                     # Execute this block\n",
    "                else:\n",
    "                     # Execute this block"
   ]
  },
  {
   "cell_type": "code",
   "execution_count": null,
   "metadata": {},
   "outputs": [],
   "source": [
    "# Python program to illustrate combining else with while \n",
    "\n",
    "count = 0\n",
    "\n",
    "while (count < 3):\n",
    "    count = count + 1\n",
    "    print(\"Hello Geek\") \n",
    "\n",
    "else:\n",
    "    print(\"While loop execution finished and Now we are in else block\") \n"
   ]
  },
  {
   "cell_type": "markdown",
   "metadata": {},
   "source": [
    "##############    ##############   Single Statement While block   ##############    ###############\n",
    "    \n",
    " => While loop with a single statement \n",
    "    \n",
    "    >>> count = 0\n",
    "    >>> while (count < 3): print (\"Welcome to the Infinite loop\")\n",
    "        \n",
    "\n",
    " =>  In this above code, the condition is always True.\n",
    "    \n",
    " =>  Note: It is suggested not to use this type of loops as it is a never ending infinite loop \n",
    "            where the condition is always true and you have to forcefully terminate the compiler.\n",
    "        \n",
    " =>  In above loop, we should add a statement to make our condition False, when the loop reaches at\n",
    "       a certain point."
   ]
  },
  {
   "cell_type": "markdown",
   "metadata": {},
   "source": [
    "    #################   ############### For loop   #############    ###############    ##############\n",
    "    \n",
    " =>  For loops are used for sequential traversal (or iterating over the items of a list, tuple, dictionary etc.) \n",
    "    \n",
    " \n",
    "    SYNTAX --\n",
    "    \n",
    "        for i in iterable:\n",
    "            print(i)\n",
    "\n",
    " \n",
    "=>  Here, 'i' is a local variable, which is used to iterate and extract the items of iterable one-by-one.\n",
    "            "
   ]
  },
  {
   "cell_type": "code",
   "execution_count": null,
   "metadata": {},
   "outputs": [],
   "source": [
    "# Python program to show the for loop\n",
    "\n",
    "list = [1, 2, 3, 4, 5]\n",
    "\n",
    "for i in list:\n",
    "    print(i)"
   ]
  },
  {
   "cell_type": "code",
   "execution_count": null,
   "metadata": {},
   "outputs": [],
   "source": [
    "# Python Program to use for loop and find the sum of all items of a list.\n",
    "\n",
    "# Defining a list\n",
    "list = [1, 2, 3, 4, 5, 6, 7, 8, 9]\n",
    "\n",
    "# assigning a variable to store the sum\n",
    "sum = 0\n",
    "\n",
    "for item in list:\n",
    "    sum = sum + item\n",
    "    \n",
    "print (\" Sum of all items of list is : \", sum)"
   ]
  },
  {
   "cell_type": "markdown",
   "metadata": {},
   "source": [
    "   ##########     ##########    Iteration over Dictionary     #############    #############   #########\n",
    "    \n",
    " =>  for loop is usedtro iterate over the keys of a Python dictionary.\n",
    "\n",
    " =>  items() is also used to iterate over the dictionary and prints the keys along with their values. "
   ]
  },
  {
   "cell_type": "code",
   "execution_count": 21,
   "metadata": {},
   "outputs": [
    {
     "name": "stdout",
     "output_type": "stream",
     "text": [
      "key1  123\n",
      "key2  456\n",
      "key3  789\n",
      "\n",
      "\n",
      "key1 123\n",
      "key2 456\n",
      "key3 789\n"
     ]
    }
   ],
   "source": [
    "# Iterating over dictionary \n",
    "Dict = {'key1': 123, 'key2': 456, 'key3': 789}\n",
    "\n",
    "# iterating using 'for' loop\n",
    "for i in Dict:                                   #  We are iterating over the keys of dictionary\n",
    "    print(\"%s  %d\" %(i, Dict[i])) \n",
    "    \n",
    "print (\"\\n\")    \n",
    "\n",
    "# iterating  using items()   \n",
    "for key, value in Dict.items(): \n",
    "\tprint(key, value) \n"
   ]
  },
  {
   "cell_type": "code",
   "execution_count": 16,
   "metadata": {},
   "outputs": [
    {
     "name": "stdout",
     "output_type": "stream",
     "text": [
      "[16, 25, 5, 4, 3, 2, 1]\n"
     ]
    }
   ],
   "source": [
    "# Python code to print a list items in reverse order \n",
    "list1 = [1, 2, 3, 4, 5, 25, 16]\n",
    "\n",
    "list2 = []\n",
    "for i in reversed(list1):\n",
    "    list2.append(i)\n",
    "    \n",
    "print (list2)"
   ]
  },
  {
   "cell_type": "markdown",
   "metadata": {},
   "source": [
    "#########   ########    Using else conditional statement with for loop in python   ###########   #############\n",
    "\n",
    " =>  In most of the programming languages (C/C++, Java, etc), the use of else statement has been restricted \n",
    "       with the if conditional statements. \n",
    "        \n",
    " =>  But Python allows us to use the else condition with for loops.\n",
    "\n",
    " =>  The else block just after for/while is executed only when the loop is NOT terminated by a break statement.\n",
    "    \n",
    " =>  Such type of else is useful only if there is an if condition present inside the loop which somehow\n",
    "        depends on the loop variable."
   ]
  },
  {
   "cell_type": "code",
   "execution_count": 13,
   "metadata": {},
   "outputs": [
    {
     "name": "stdout",
     "output_type": "stream",
     "text": [
      "1\n",
      "\n",
      "\n",
      "0\n"
     ]
    }
   ],
   "source": [
    "# Python program to show the use of else statement with for and while loop\n",
    "\n",
    "# Else with for loop\n",
    "list = [1, 2, 4, 6, 8]\n",
    "\n",
    "for i in list:\n",
    "    print(i)\n",
    "    break\n",
    "    \n",
    "else:\n",
    "    print(\" Loop has been executed successfully.\")\n",
    "    \n",
    "print(\"\\n\")\n",
    "\n",
    "# else with while loop\n",
    "\n",
    "count = 0\n",
    "while count < 5:\n",
    "    print (count)\n",
    "    count = count + 1\n",
    "    break\n",
    "    \n",
    "else:\n",
    "    print(\" Loop has been executed successfully.\") "
   ]
  },
  {
   "cell_type": "code",
   "execution_count": 3,
   "metadata": {},
   "outputs": [
    {
     "name": "stdout",
     "output_type": "stream",
     "text": [
      "For List 1:\n",
      "list contains an even number\n",
      " \n",
      "For List 2:\n",
      "list does not contain an even number\n"
     ]
    }
   ],
   "source": [
    "# Python 3.x program to check if an array consists of even number\n",
    "\n",
    "def contains_even_number(l): \n",
    "\tfor ele in l: \n",
    "\t\tif ele % 2 == 0: \n",
    "\t\t\tprint (\"list contains an even number\") \n",
    "\t\t\tbreak\n",
    "\n",
    "\t# This else executes only if break is NEVER \n",
    "\t# reached and loop terminated after all iterations. \n",
    "\telse:\t \n",
    "\t\tprint (\"list does not contain an even number\") \n",
    "\n",
    "# Driver code \n",
    "print (\"For List 1:\") \n",
    "contains_even_number([1, 9, 8]) \n",
    "print (\" \\nFor List 2:\") \n",
    "contains_even_number([1, 3, 5]) \n"
   ]
  },
  {
   "cell_type": "markdown",
   "metadata": {},
   "source": [
    "    ###############    ##############   Iterating by index of sequences   ###############    ###############\n",
    "    \n",
    " =>  We can also use the index of elements in the sequence to iterate. \n",
    "\n",
    " =>  The key idea is to first calculate the length of the list and in iterate over the sequence \n",
    "        within the range of this length."
   ]
  },
  {
   "cell_type": "code",
   "execution_count": null,
   "metadata": {},
   "outputs": [],
   "source": [
    "# Python program to illustrate Iterating by index \n",
    "  \n",
    "list = [\"geeks\", \"for\", \"geeks\"] \n",
    "\n",
    "for index in range(len(list)): \n",
    "    print (list[index]) "
   ]
  },
  {
   "cell_type": "markdown",
   "metadata": {},
   "source": [
    "          ###########    ############   Nested Loops   #############   #############\n",
    "    \n",
    " =>  Python programming language allows to use one loop inside another loop. \n",
    "\n",
    " => syntax -\n",
    "    \n",
    "                for iterator_var in sequence: \n",
    "                    for iterator_var in sequence: \n",
    "                        statements(s) \n",
    "                        statements(s) \n",
    "                        \n",
    " =>  syntax for a Nested while loop is -\n",
    "\n",
    "                while expression: \n",
    "                    while expression: \n",
    "                        statement(s)\n",
    "                        statement(s) \n",
    "                        \n",
    " =>  A final note on loop nesting is that we can put any type of loop inside of any other type of loop."
   ]
  },
  {
   "cell_type": "code",
   "execution_count": null,
   "metadata": {},
   "outputs": [],
   "source": [
    "# Python program to illustrate nested for loops in Python \n",
    "\n",
    "from __future__ import print_function \n",
    "\n",
    "for i in range(1, 5): \n",
    "    for j in range(i): \n",
    "        print(i)\n",
    "    print() \n",
    "\n"
   ]
  },
  {
   "cell_type": "markdown",
   "metadata": {},
   "source": [
    "   #############    ##############   Loop Control Statements    ################    ################  \n",
    "    \n",
    " =>  Loop control statements change execution from its normal sequence.\n",
    "    \n",
    " =>  Python supports the following control statements.\n",
    "\n",
    "        * continue statement \n",
    "       \n",
    "        * break statement \n",
    "        \n",
    "        * pass statement "
   ]
  },
  {
   "cell_type": "markdown",
   "metadata": {},
   "source": [
    "   ##############    #############  Continue statement  ###############    ##############\n",
    "    \n",
    " =>  continue statement is used to skip the rest of code inside a loop for the current iteration only. \n",
    "        loop does not terminate but continues on the iteration.\n",
    "    \n",
    " =>  In this code, We iterate through the sequence and check if val == 'i'\n",
    " \n",
    " =>  if val == 'i', it excludes that particular item in the sequence and print all the items before and after 'i'.\n",
    "\n",
    " =>  So all letters except 'i' get printed."
   ]
  },
  {
   "cell_type": "code",
   "execution_count": null,
   "metadata": {},
   "outputs": [],
   "source": [
    "#  Python code to show the continue statement\n",
    "\n",
    "for val in \"string\":\n",
    "    if val == \"i\":\n",
    "        continue\n",
    "    print(val)\n",
    "\n",
    "print ('The end of loop')"
   ]
  },
  {
   "cell_type": "markdown",
   "metadata": {},
   "source": [
    "    ##############    #############   break statement  ###############    ##############\n",
    "    \n",
    " =>  break statement is used to get control out from the loop.\n",
    "\n",
    " =>  We uses conditions with break statements.\n",
    "    \n",
    " =>  This terminates the loop containing it & the control of program flows to to the statement\n",
    "         that comes immediately after the loop.\n",
    "    \n",
    " =>  In this below code, we iterate through the sequence \"string\". \n",
    "\n",
    " =>  When val == \"i\", it breaks from the loopso letters till \"i\" get printed and so loops get terminated.\n",
    "        and the next print() statement gets executed ."
   ]
  },
  {
   "cell_type": "code",
   "execution_count": null,
   "metadata": {},
   "outputs": [],
   "source": [
    "# Python program to show the use break statement\n",
    "\n",
    "for letter in 'geeksforgeeks':\n",
    "    if letter == 's':\n",
    "        break\n",
    "    print (letter)\n",
    "\n",
    "print (\"The loop has been ended.\")"
   ]
  },
  {
   "cell_type": "markdown",
   "metadata": {},
   "source": [
    "      ##################    #############  Pass Statement    ##############    ###############\n",
    "\n",
    " =>  We use pass statement to write empty loops. \n",
    "                              \n",
    " =>  Pass is also used for empty control statement, function and classes."
   ]
  },
  {
   "cell_type": "markdown",
   "metadata": {},
   "source": [
    "   #############    ###############     Looping techniques in python   ##############    ##############\n",
    "    \n",
    " =>  Python supports various looping techniques by certain inbuilt functions, in various sequential containers. \n",
    "\n",
    " =>  These methods are primarily very useful in competitive programming and also in various project \n",
    "       which require a specific technique with loops maintaining the overall structure of code.\n",
    "        \n",
    " ==>  Where they are used ?\n",
    "\n",
    "    =>  Different looping techniques are primarily useful in the places where we don’t need to actually \n",
    "          manipulate the structure and ordering of overall container, rather only print the elements \n",
    "          for a single use instance, no inplace change occurs in the container.\n",
    "         This can also be used in instances to save time."
   ]
  },
  {
   "cell_type": "markdown",
   "metadata": {},
   "source": [
    " #############    ###############    Looping techniques in python    ##############    ##############\n",
    "    \n",
    " =>  enumerate() - This is used to loop through the containers printing the index number along with the value\n",
    "                     present in that particular index."
   ]
  },
  {
   "cell_type": "markdown",
   "metadata": {},
   "source": [
    " =>  zip() - This is used to combine 2 similar containers(list-list or dict-dict) printing the values sequentially. \n",
    "              The loop exists only till the smaller container ends.\n",
    "                 "
   ]
  },
  {
   "cell_type": "markdown",
   "metadata": {},
   "source": [
    " =>  items(): - This is used to iterate over a dictionary and prints the keys along with their values. "
   ]
  },
  {
   "cell_type": "markdown",
   "metadata": {},
   "source": [
    " =>  sorted():  This is used to print the container in sorted order. \n",
    "                  It doesn’t sort the container, but just prints the container in sorted order for 1 instance. \n",
    "            \n",
    " =>  Note : sorted() will only work if the container has only single type of values. \n",
    "               \n",
    "\n",
    " =>  set(): This can be combined to remove duplicate occurrences."
   ]
  },
  {
   "cell_type": "markdown",
   "metadata": {},
   "source": [
    " =>  reversed(): This is used to print the values of container in the reversed order.\n",
    "\n",
    "      Note: It does not reflect any changes to the original list"
   ]
  },
  {
   "cell_type": "markdown",
   "metadata": {},
   "source": [
    "    #################  Advantage of using above techniques over for, while loop   ###############\n",
    "    \n",
    " =>  These techniques are quick to use and reduces coding effort. for, while loops needs the entire structure \n",
    "        of container to be changed.\n",
    "\n",
    " =>  These Looping techniques  do not require any structural changes to container. \n",
    "\n",
    " =>  They have keywords which present the exact purpose of usage.\n",
    "      Whereas, no pre-predictions or guesses can be made in for, while loop i.e not easily understandable \n",
    "          the purpose at a glance.\n",
    "\n",
    " =>  Looping technique make the code more concise than using for, while loopings."
   ]
  },
  {
   "cell_type": "code",
   "execution_count": 1,
   "metadata": {},
   "outputs": [
    {
     "name": "stdout",
     "output_type": "stream",
     "text": [
      "0 The\n",
      "1 Big\n",
      "2 Bang\n",
      "3 Theory\n"
     ]
    }
   ],
   "source": [
    "# python code to demonstrate working of enumerate() \n",
    "\n",
    "for key, value in enumerate(['The', 'Big', 'Bang', 'Theory']): \n",
    "\tprint(key, value) \n"
   ]
  },
  {
   "cell_type": "code",
   "execution_count": 2,
   "metadata": {},
   "outputs": [
    {
     "name": "stdout",
     "output_type": "stream",
     "text": [
      "What is your name? I am apple.\n",
      "What is your colour? I am red.\n",
      "What is your shape? I am a circle.\n"
     ]
    }
   ],
   "source": [
    "# python code to demonstrate working of zip() \n",
    "\n",
    "# initializing list \n",
    "\n",
    "questions = ['name', 'colour', 'shape'] \n",
    "answers = ['apple', 'red', 'a circle'] \n",
    "\n",
    "# using zip() to combine two containers and print values \n",
    "\n",
    "for question, answer in zip(questions, answers): \n",
    "\tprint('What is your {0}? I am {1}.'.format(question, answer)) \n",
    " "
   ]
  },
  {
   "cell_type": "code",
   "execution_count": 8,
   "metadata": {},
   "outputs": [
    {
     "name": "stdout",
     "output_type": "stream",
     "text": [
      "1 1 2 3 3 5 6 \n",
      "\n",
      "1 2 3 5 6 "
     ]
    }
   ],
   "source": [
    "# python code to demonstrate working of sorted() \n",
    "\n",
    "# initializing list \n",
    "list = [ 1 , 3, 5, 6, 2, 1, 3] \n",
    "\n",
    "# Using sorted() for sorting the elements of a list\n",
    "for i in sorted(list):\n",
    "    print(i, end = \" \")\n",
    "\n",
    "\n",
    "print (\"\\n\") \n",
    "\n",
    "# using sorted() and set() to print the list in sorted order \n",
    "for i in sorted(set(list)) :\n",
    "    print (i,end=\" \") \n"
   ]
  },
  {
   "cell_type": "code",
   "execution_count": null,
   "metadata": {},
   "outputs": [],
   "source": [
    "# python code to demonstrate working of sorted() \n",
    "\n",
    "# initializing list \n",
    "basket = ['guave', 'orange', 'apple', 'pear', \n",
    "\t\t'guava', 'banana', 'grape'] \n",
    "\n",
    "# using sorted() and set() to print the list \n",
    "# in sorted order \n",
    "for fruit in sorted(set(basket)): \n",
    "\tprint(fruit) \n"
   ]
  },
  {
   "cell_type": "code",
   "execution_count": null,
   "metadata": {},
   "outputs": [],
   "source": [
    "# python code to demonstrate working of reversed() \n",
    "\n",
    "# initializing list \n",
    "lis = [ 1 , 3, 5, 6, 2, 1, 3 ] \n",
    "\n",
    "\n",
    "# using revered() to print the list in reversed order \n",
    "print (\"The list in reversed order is : \") \n",
    "for i in reversed(lis) : \n",
    "\tprint (i,end=\" \") \n"
   ]
  },
  {
   "cell_type": "code",
   "execution_count": null,
   "metadata": {},
   "outputs": [],
   "source": [
    "# python code to use reversed with range()\n",
    "\n",
    "for i in reversed(range(0, 15, 1)) :\n",
    "    print (i)"
   ]
  },
  {
   "cell_type": "markdown",
   "metadata": {},
   "source": [
    "     ############    #######   Chaining comparison operators in Python    ##########    ################\n",
    "    \n",
    " =>  Checking more than two conditions is very common in Programming Languages.\n",
    "\n",
    "          >>>  a < b < c\n",
    "   \n",
    " =>  Most common syntax to do it is as follows:\n",
    "\n",
    "          >>>  if a < b and b < c :\n",
    "                  {...}\n",
    "            \n",
    " =>  In Python, there is a better way to write this using Comparison operator Chaining. \n",
    "      \n",
    "          >>>  if a < b < c :\n",
    "                   {.....}\n",
    "                \n",
    " =>  According to associativity and precedence in Python, all comparison operations in Python have the same \n",
    "        priority, which is lower than that of any arithmetic, shifting or bitwise operation. "
   ]
  },
  {
   "cell_type": "markdown",
   "metadata": {},
   "source": [
    "<img src=\"images/comp-operators.png\">"
   ]
  },
  {
   "cell_type": "code",
   "execution_count": null,
   "metadata": {},
   "outputs": [],
   "source": [
    "# Python code to illustrate chaining comparison operators \n",
    "\n",
    "x = 5\n",
    "\n",
    "print(1 < x < 10) \n",
    "print(10 < x < 20 ) \n",
    "print(x < 10 < x*10 < 100) \n",
    "print(10 > x <= 9) \n",
    "print(5 == x > 4)\n"
   ]
  },
  {
   "cell_type": "code",
   "execution_count": null,
   "metadata": {},
   "outputs": [],
   "source": [
    "# Python code to illustrate chaining comparison operators \n",
    "\n",
    "a, b, c, d, e, f = 0, 5, 12, 0, 15, 15\n",
    "\n",
    "exp1 = a <= b < c > d is not e is f \n",
    "exp2 = a is d > f is not c \n",
    "\n",
    "print(exp1) \n",
    "print(exp2) \n"
   ]
  }
 ],
 "metadata": {
  "kernelspec": {
   "display_name": "Python 3",
   "language": "python",
   "name": "python3"
  },
  "language_info": {
   "codemirror_mode": {
    "name": "ipython",
    "version": 3
   },
   "file_extension": ".py",
   "mimetype": "text/x-python",
   "name": "python",
   "nbconvert_exporter": "python",
   "pygments_lexer": "ipython3",
   "version": "3.7.7"
  }
 },
 "nbformat": 4,
 "nbformat_minor": 4
}
