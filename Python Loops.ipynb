{
 "cells": [
  {
   "cell_type": "code",
   "execution_count": null,
   "metadata": {},
   "outputs": [],
   "source": [
    "        ############    #############   Python Loops   #############   ##############   \n",
    "    \n",
    " =>  Python programming language provides following types of loops to handle looping requirements. \n",
    "\n",
    " =>  Python provides three ways for executing the loops. \n",
    "        \n",
    " =>  While all the ways provide similar basic functionality, they differ in their syntax and \n",
    "         condition checking time.\n",
    "    \n",
    "=>  All the statements indented by the same number of character spaces after a programming construct are \n",
    "       considered to be part of a single block of code. \n",
    "    \n",
    " =>  Python uses indentation as its method of grouping statements."
   ]
  },
  {
   "cell_type": "code",
   "execution_count": null,
   "metadata": {},
   "outputs": [],
   "source": [
    "    ############    #############   While Loop   #############   ##############   \n",
    "    \n",
    " =>  while loop is get executed only when, if the condition evaluates True otherwise it bypasses the loop.\n",
    "\n",
    " =>  And when the condition becomes false, the line immediately after the loop in program is executed.  \n",
    "    \n",
    "    \n",
    "      Syntax -->\n",
    "        \n",
    "                  while expression:\n",
    "                        statement(s)\n",
    "                    \n",
    "                  statement(s)"
   ]
  },
  {
   "cell_type": "code",
   "execution_count": null,
   "metadata": {},
   "outputs": [],
   "source": [
    "# Python program to illustrate while loop\n",
    "\n",
    "count = 0\n",
    "\n",
    "while (count < 10):\n",
    "    print(\"Hello Geek\")\n",
    "    count = count + 1 \n"
   ]
  },
  {
   "cell_type": "code",
   "execution_count": null,
   "metadata": {},
   "outputs": [],
   "source": [
    "  =>  In above code, our count is equal to '0' and condition of while loop is True.\n",
    "     \n",
    "  =>  while loop will be executed and print the statement\n",
    " \n",
    "  =>  After print statement, count = count + 1 is re assigning the value to count variable by adding 1.\n",
    "\n",
    "  =>  Then our count becomes 1 and so condition is still true, same process occurs and count will become 2.\n",
    "    \n",
    "  =>  All above process will be repeated until our condition is True.\n",
    "\n",
    "  =>  When the condition becomes False, we get out from the while loop.\n",
    "\n",
    "  "
   ]
  },
  {
   "cell_type": "code",
   "execution_count": null,
   "metadata": {},
   "outputs": [],
   "source": [
    "     ##############   #############   Using else statement with while loops    ###############    ###############\n",
    "    \n",
    " =>  while loop executes the block until a condition is satisfied.\n",
    "\n",
    " =>  When the condition becomes false, the statement immediately after the loop is executed.\n",
    "\n",
    " =>  The else clause is only executed when your while condition becomes false. \n",
    "\n",
    " =>  If you break out of the loop, or if an exception is raised, it won’t be executed.\n",
    "    \n",
    " \n",
    " Syntax ->      while-else statements\n",
    "        \n",
    "                while condition:\n",
    "                     # Execute this block\n",
    "                else:\n",
    "                     # Execute this block"
   ]
  },
  {
   "cell_type": "code",
   "execution_count": null,
   "metadata": {},
   "outputs": [],
   "source": [
    "# Python program to illustrate combining else with while \n",
    "\n",
    "count = 0\n",
    "\n",
    "while (count < 3):\n",
    "    count = count + 1\n",
    "    print(\"Hello Geek\") \n",
    "\n",
    "else:\n",
    "    print(\"While loop execution finished and Now we are in else block\") \n"
   ]
  },
  {
   "cell_type": "code",
   "execution_count": null,
   "metadata": {},
   "outputs": [],
   "source": [
    " #          ##############   Single Statement While block   ##############    ###############\n",
    "    \n",
    " => While loop with a single statement \n",
    "    \n",
    "    >>> count = 0\n",
    "    >>> while (count < 3): print (\"Welcome to the Infinite loop\")\n",
    "        \n",
    "\n",
    " =>  In this above code, the condition is always True.\n",
    "    \n",
    " =>  Note: It is suggested not to use this type of loops as it is a never ending infinite loop \n",
    "            where the condition is always true and you have to forcefully terminate the compiler.\n",
    "        \n",
    " =>  In above loop, we should add a statement to make our condition False, when the loop reaches at\n",
    "       a certain point."
   ]
  },
  {
   "cell_type": "code",
   "execution_count": null,
   "metadata": {},
   "outputs": [],
   "source": [
    "    #################   ############### For loop   #############    ###############    ##############\n",
    "    \n",
    " =>  For loops are used for sequential traversal (or iterating over the items of a list, tuple, dictionary etc.) \n",
    "    \n",
    " \n",
    "    SYNTAX --\n",
    "    \n",
    "        for i in iterable:\n",
    "            print(i)\n",
    "\n",
    " \n",
    "=>  Here, 'i' is a local variable, which is used to iterate and extract the items of iterable one-by-one.\n",
    "            "
   ]
  },
  {
   "cell_type": "code",
   "execution_count": null,
   "metadata": {},
   "outputs": [],
   "source": [
    "# Python program to show for loop\n",
    "\n",
    "list = [1, 2, 3, 4, 5]\n",
    "\n",
    "for i in list:\n",
    "    print(i)"
   ]
  },
  {
   "cell_type": "code",
   "execution_count": null,
   "metadata": {},
   "outputs": [],
   "source": [
    "   ##########     ##########    Iteration over Dictionary     #############    #############   #########\n",
    "    \n",
    " =>  for loop is usedtro iterate over the keys of a Python dictionary.\n",
    "\n",
    " =>  items() is also used to iterate over the dictionary and prints the keys along with their values. "
   ]
  },
  {
   "cell_type": "code",
   "execution_count": null,
   "metadata": {},
   "outputs": [],
   "source": [
    "#########   ########    Using else conditional statement with for loop in python   ###########   #############\n",
    "\n",
    " =>  In most of the programming languages (C/C++, Java, etc), the use of else statement has been restricted \n",
    "       with the if conditional statements. \n",
    "        \n",
    " =>  But Python allows us to use the else condition with for loops.\n",
    "\n",
    " =>  The else block just after for/while is executed only when the loop is NOT terminated by a break statement.\n",
    "    \n",
    " =>  Such type of else is useful only if there is an if condition present inside the loop which somehow\n",
    "        depends on the loop variable."
   ]
  },
  {
   "cell_type": "code",
   "execution_count": null,
   "metadata": {},
   "outputs": [],
   "source": [
    "    ###############    ##############   Iterating by index of sequences   ###############    ###############\n",
    "    \n",
    " =>  We can also use the index of elements in the sequence to iterate. \n",
    "\n",
    " =>  The key idea is to first calculate the length of the list and in iterate over the sequence \n",
    "        within the range of this length."
   ]
  },
  {
   "cell_type": "code",
   "execution_count": null,
   "metadata": {},
   "outputs": [],
   "source": [
    "   #############      #############    Range() function in Python    #############    ##############\n",
    "    \n",
    " =>  range(start, stop, step) - Range() behaves like a gemnerator & generate a data set.\n",
    "\n",
    "        * start ->  This is the lower bound of dataset.\n",
    "\n",
    "        * stop  ->  This is upper bound, and always get excluded in dataset.\n",
    "        \n",
    "        * step  ->  This is jump and it gives direction of control by (+ or -) symbol.\n",
    "        \n",
    " =>  These all above 3 arguments always can takes integers as arguments. Incase of floats, Errors may be raised.\n",
    "\n",
    " =>  We can pass either 1 or 2 or 3 arguments with range() function.\n",
    "\n",
    "    e.g.   >>> range(0, 5) ->  (0, 1, 2, 3, 4)\n",
    "           \n",
    "           >>> range(2, 6) ->  (2, 3, 4, 5)\n",
    "           \n",
    "           >>> range(2, 10, 2) ->  (2, 4, 6, 8)\n",
    "            \n",
    "           >>> range(-2, -8, -1) -> ([-2, -3, -4, -5, -6, -7])"
   ]
  },
  {
   "cell_type": "code",
   "execution_count": null,
   "metadata": {},
   "outputs": [],
   "source": [
    "          ###########    ############   Nested Loops   #############   #############\n",
    "    \n",
    " =>  Python programming language allows to use one loop inside another loop. \n",
    "\n",
    " => syntax -\n",
    "    \n",
    "                for iterator_var in sequence: \n",
    "                    for iterator_var in sequence: \n",
    "                        statements(s) \n",
    "                        statements(s) \n",
    "                        \n",
    " =>  syntax for a Nested while loop is -\n",
    "\n",
    "                while expression: \n",
    "                    while expression: \n",
    "                        statement(s)\n",
    "                        statement(s) \n",
    "                        \n",
    " =>  A final note on loop nesting is that we can put any type of loop inside of any other type of loop."
   ]
  },
  {
   "cell_type": "code",
   "execution_count": null,
   "metadata": {},
   "outputs": [],
   "source": [
    "   #############    ##############   Loop Control Statements    ################    ################  \n",
    "    \n",
    " =>  Loop control statements change execution from its normal sequence.\n",
    "    \n",
    " =>  Python supports the following control statements.\n",
    "\n",
    "        * continue statement \n",
    "       \n",
    "        * break statement \n",
    "        \n",
    "        * pass statement "
   ]
  },
  {
   "cell_type": "code",
   "execution_count": null,
   "metadata": {},
   "outputs": [],
   "source": [
    "#   ##############    #############  Continue statement  ###############    ##############\n",
    "    \n",
    " =>  continue statement is used to skip the rest of code inside a loop for the current iteration only. \n",
    "        loop does not terminate but continues on the iteration.\n",
    "    \n",
    " =>  Loops has some master statements to be execute in a repetititve manner.\n",
    "  \n",
    " =>  continue should follow a condition, which evaluates to either True or False.\n",
    "  \n",
    " =>  In each iteration, conditions are checked. If False, Master statements get executed.\n",
    " \n",
    " =>  In case of True, continue executes and return the control immediately from Master statements to be executed,\n",
    "       so at that particular iteration, no any statements will executed and control moves to next iteration.\n",
    "       \n",
    " =>  In this case, Master statements at every iteration (except i for True) get executed.\n",
    " \n",
    " =>  If we are using else statement in this loop, else will always executed."
   ]
  },
  {
   "cell_type": "code",
   "execution_count": 7,
   "metadata": {},
   "outputs": [
    {
     "name": "stdout",
     "output_type": "stream",
     "text": [
      "s\n",
      "t\n",
      "r\n",
      "n\n",
      "g\n",
      "Loop has been completed\n",
      "The end of loop\n"
     ]
    }
   ],
   "source": [
    "#  Python code to show the continue statement\n",
    "\n",
    "for val in \"string\":\n",
    "    if val == \"i\":\n",
    "        continue\n",
    "    print(val)\n",
    "    \n",
    "else:\n",
    "    print (\"Loop has been completed\")\n",
    "\n",
    "print ('The end of loop')"
   ]
  },
  {
   "cell_type": "code",
   "execution_count": null,
   "metadata": {},
   "outputs": [],
   "source": [
    "    ##############    #############   break statement  ###############    ##############\n",
    "    \n",
    " =>  break statement is used to get control out from the loop.\n",
    "\n",
    " =>  Break consists with a condition that is checked at each iteration and evaluates to either True or False.\n",
    " \n",
    " =>  If false, break will not execute but Master statements of loop will be executed.\n",
    " \n",
    " =>  If True, break executes in that particular iteration and take the control out from loop,\n",
    "        so Master statements will not executes fro now in this loop.\n",
    "        \n",
    " =>  If there is an else statement , it will execute only if break don't get execute. "
   ]
  },
  {
   "cell_type": "code",
   "execution_count": 8,
   "metadata": {},
   "outputs": [
    {
     "name": "stdout",
     "output_type": "stream",
     "text": [
      "g\n",
      "e\n",
      "e\n",
      "k\n",
      "The loop has been ended.\n"
     ]
    }
   ],
   "source": [
    "# Python program to show the use break statement\n",
    "\n",
    "for letter in 'geeksforgeeks':\n",
    "    if letter == 's':\n",
    "        break\n",
    "    print (letter)\n",
    "    \n",
    "else:\n",
    "    print(\" The loop has been completed successfully\")\n",
    "\n",
    "print (\"The loop has been ended.\")"
   ]
  },
  {
   "cell_type": "code",
   "execution_count": null,
   "metadata": {},
   "outputs": [],
   "source": [
    "      ##################    #############  Pass Statement    ##############    ###############\n",
    "\n",
    " =>  We use pass statement to write empty loops. \n",
    "                              \n",
    " =>  Pass is also used for empty control statement, function and classes."
   ]
  },
  {
   "cell_type": "code",
   "execution_count": null,
   "metadata": {},
   "outputs": [],
   "source": [
    "   #############    ###############     Looping techniques in python   ##############    ##############\n",
    "    \n",
    " =>  Python supports various looping techniques by certain inbuilt functions, in various sequential containers. \n",
    "\n",
    " =>  These methods are primarily very useful in competitive programming and also in various project \n",
    "       which require a specific technique with loops maintaining the overall structure of code.\n",
    "        \n",
    " ==>  Where they are used ?\n",
    "\n",
    "    =>  Different looping techniques are primarily useful in the places where we don’t need to actually \n",
    "          manipulate the structure and ordering of overall container, rather only print the elements \n",
    "          for a single use instance, no inplace change occurs in the container.\n",
    "         This can also be used in instances to save time."
   ]
  },
  {
   "cell_type": "code",
   "execution_count": null,
   "metadata": {},
   "outputs": [],
   "source": [
    " #############    ###############    Looping techniques in python    ##############    ##############\n",
    "    \n",
    " =>  enumerate() - This is used to loop through the containers printing the index number along with the value\n",
    "                     present in that particular index."
   ]
  },
  {
   "cell_type": "code",
   "execution_count": 1,
   "metadata": {},
   "outputs": [
    {
     "name": "stdout",
     "output_type": "stream",
     "text": [
      "0 The\n",
      "1 Big\n",
      "2 Bang\n",
      "3 Theory\n"
     ]
    }
   ],
   "source": [
    "for key, value in enumerate(['The', 'Big', 'Bang', 'Theory']):\n",
    "    print(key, value)"
   ]
  },
  {
   "cell_type": "code",
   "execution_count": null,
   "metadata": {},
   "outputs": [],
   "source": [
    " =>  zip() - This is used to combine 2 similar containers(list-list or dict-dict) printing the values sequentially. \n",
    "              The loop exists only till the smaller container ends.\n",
    "                 "
   ]
  },
  {
   "cell_type": "code",
   "execution_count": 2,
   "metadata": {},
   "outputs": [
    {
     "name": "stdout",
     "output_type": "stream",
     "text": [
      "What is your name? I am apple.\n",
      "What is your colour? I am red.\n",
      "What is your shape? I am a circle.\n"
     ]
    }
   ],
   "source": [
    "# python code to demonstrate working of zip() \n",
    "\n",
    "# initializing list \n",
    "\n",
    "questions = ['name', 'colour', 'shape'] \n",
    "answers = ['apple', 'red', 'a circle'] \n",
    "\n",
    "# using zip() to combine two containers and print values \n",
    "\n",
    "for question, answer in zip(questions, answers): \n",
    "\tprint('What is your {0}? I am {1}.'.format(question, answer)) \n",
    " "
   ]
  },
  {
   "cell_type": "code",
   "execution_count": null,
   "metadata": {},
   "outputs": [],
   "source": [
    " =>  items(): - This is used to iterate over a dictionary and prints the keys along with their values. "
   ]
  },
  {
   "cell_type": "code",
   "execution_count": null,
   "metadata": {},
   "outputs": [],
   "source": [
    " =>  sorted():  This is used to print the container in sorted order. \n",
    "                  It doesn’t sort the container, but just prints the container in sorted order for 1 instance. \n",
    "            \n",
    " =>  Note : sorted() will only work if the container has only single type of values. \n",
    "               \n",
    "\n",
    " =>  set(): This can be combined to remove duplicate occurrences."
   ]
  },
  {
   "cell_type": "code",
   "execution_count": 8,
   "metadata": {},
   "outputs": [
    {
     "name": "stdout",
     "output_type": "stream",
     "text": [
      "1 1 2 3 3 5 6 \n",
      "\n",
      "1 2 3 5 6 "
     ]
    }
   ],
   "source": [
    "# python code to demonstrate working of sorted() \n",
    "\n",
    "# initializing list \n",
    "list = [ 1 , 3, 5, 6, 2, 1, 3] \n",
    "\n",
    "# Using sorted() for sorting the elements of a list\n",
    "for i in sorted(list):\n",
    "    print(i, end = \" \")\n",
    "\n",
    "\n",
    "print (\"\\n\") \n",
    "\n",
    "# using sorted() and set() to print the list in sorted order \n",
    "for i in sorted(set(list)) :\n",
    "    print (i,end=\" \") \n"
   ]
  },
  {
   "cell_type": "code",
   "execution_count": null,
   "metadata": {},
   "outputs": [],
   "source": [
    " =>  reversed(): This is used to print the values of container in the reversed order.\n",
    "\n",
    "      Note: It does not reflect any changes to the original list"
   ]
  },
  {
   "cell_type": "code",
   "execution_count": 2,
   "metadata": {},
   "outputs": [
    {
     "name": "stdout",
     "output_type": "stream",
     "text": [
      "The list in reversed order is : \n",
      "3 1 2 6 5 3 1 "
     ]
    }
   ],
   "source": [
    "# python code to demonstrate working of reversed() \n",
    "\n",
    "# initializing list \n",
    "list = [ 1 , 3, 5, 6, 2, 1, 3 ] \n",
    "\n",
    "\n",
    "# using revered() to print the list in reversed order \n",
    "print (\"The list in reversed order is : \") \n",
    "for i in reversed(list) : \n",
    "\tprint (i,end=\" \") \n"
   ]
  },
  {
   "cell_type": "code",
   "execution_count": null,
   "metadata": {},
   "outputs": [],
   "source": [
    "# python code to use reversed with range()\n",
    "\n",
    "for i in reversed(range(0, 15, 1)) :\n",
    "    print (i)"
   ]
  },
  {
   "cell_type": "code",
   "execution_count": null,
   "metadata": {},
   "outputs": [],
   "source": [
    "    #################  Advantage of using above techniques over for, while loop   ###############\n",
    "    \n",
    " =>  These techniques are quick to use and reduces coding effort. for, while loops needs the entire structure \n",
    "        of container to be changed.\n",
    "\n",
    " =>  These Looping techniques  do not require any structural changes to container. \n",
    "\n",
    " =>  They have keywords which present the exact purpose of usage.\n",
    "      Whereas, no pre-predictions or guesses can be made in for, while loop i.e not easily understandable \n",
    "          the purpose at a glance.\n",
    "\n",
    " =>  Looping technique make the code more concise than using for, while loopings."
   ]
  },
  {
   "cell_type": "code",
   "execution_count": null,
   "metadata": {},
   "outputs": [],
   "source": [
    "     ############    #######   Chaining comparison operators in Python    ##########    ################\n",
    "    \n",
    " =>  Checking more than two conditions is very common in Programming Languages.\n",
    "\n",
    "          >>>  a < b < c\n",
    "   \n",
    " =>  Most common syntax to do it is as follows:\n",
    "\n",
    "          >>>  if a < b and b < c :\n",
    "                  {...}\n",
    "            \n",
    " =>  In Python, there is a better way to write this using Comparison operator Chaining. \n",
    "      \n",
    "          >>>  if a < b < c :\n",
    "                   {.....}\n",
    "                \n",
    " =>  According to associativity and precedence in Python, all comparison operations in Python have the same \n",
    "        priority, which is lower than that of any arithmetic, shifting or bitwise operation. "
   ]
  },
  {
   "cell_type": "markdown",
   "metadata": {},
   "source": [
    "<img src=\"images/comp-operators.png\">"
   ]
  }
 ],
 "metadata": {
  "kernelspec": {
   "display_name": "Python 3",
   "language": "python",
   "name": "python3"
  },
  "language_info": {
   "codemirror_mode": {
    "name": "ipython",
    "version": 3
   },
   "file_extension": ".py",
   "mimetype": "text/x-python",
   "name": "python",
   "nbconvert_exporter": "python",
   "pygments_lexer": "ipython3",
   "version": "3.7.7"
  }
 },
 "nbformat": 4,
 "nbformat_minor": 4
}
