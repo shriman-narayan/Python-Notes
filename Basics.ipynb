{
 "cells": [
  {
   "cell_type": "markdown",
   "metadata": {},
   "source": [
    "        ############   ############  Python Tutorial   ############   ############"
   ]
  },
  {
   "cell_type": "markdown",
   "metadata": {},
   "source": [
    " =>  Python offers two things.\n",
    "      \n",
    "        -->  * Scripting      * OOP's\n",
    " \n",
    " =>  Variables are nothing, but a type of entity that can try to store some values.\n",
    "      e.g.  shriman = 7\n",
    " \n",
    " =>  This assigned value 7 is going to be stored in Heap memory with reference 'shriman' . \n",
    "       \n",
    " => This Heap Memory is a type of volatile memory or main memory.\n",
    "\n",
    " => Python is too smart to understand all of its datatypes.  \n",
    "\n",
    " => id(object)  -->  This return the address of memory location assigned to that object or variable.\n",
    " \n",
    " => type(obj) -->  This return the type of object or variable passing through it."
   ]
  },
  {
   "cell_type": "code",
   "execution_count": 2,
   "metadata": {},
   "outputs": [
    {
     "name": "stdout",
     "output_type": "stream",
     "text": [
      "The type of value assigned is :  <class 'str'>\n",
      "The type of value assigned is :  <class 'int'>\n",
      "The type of value assigned is :  <class 'float'>\n"
     ]
    }
   ],
   "source": [
    "# python program to show the smartness of Python language\n",
    "\n",
    "# Assigning variables\n",
    "name = 'Shriman narayan'            # string value assigned to name\n",
    "age = 23                            # int values assigned to age\n",
    "weight = 52.25                      # float value assigned to weight (in kg)\n",
    "\n",
    "print (\"The type of value assigned is : \", type(name))\n",
    "print (\"The type of value assigned is : \", type(age))\n",
    "print (\"The type of value assigned is : \", type(weight))\n"
   ]
  },
  {
   "cell_type": "code",
   "execution_count": 3,
   "metadata": {},
   "outputs": [
    {
     "name": "stdout",
     "output_type": "stream",
     "text": [
      "139874761776880     93975482807744\n"
     ]
    }
   ],
   "source": [
    "# Using id() on variables\n",
    "\n",
    "print (id(name), id(age), sep =\"     \")"
   ]
  },
  {
   "cell_type": "markdown",
   "metadata": {},
   "source": [
    "   ############   ##########    Complex Datatypes   ###############     ##############\n",
    "   \n",
    " =>  Complex Literals can be created by using the notation (x = yj), \n",
    "         \n",
    "        i.e.  x is real component and y is imaginary component, whereas j is the imaginary unit (iota).\n",
    "                 [j = sqrt(-1)]\n",
    "\n",
    " =>  Note - 'i' cannt be use here in python so we will use 'j' .\n",
    " \n",
    " => let z be a complex no. such that z = 1.0 -2.0 j\n",
    " \n",
    "     * z.real          -->    This returns the real part of complex number.\n",
    "     * z.imag          -->    This returns the imaginary part of complex number.\n",
    "     \n",
    "     * z.conjugate()   -->    This returns the conjugate of that imaginary number."
   ]
  },
  {
   "cell_type": "markdown",
   "metadata": {},
   "source": [
    "     ##############    ############   Strings in Python   #############     ################\n",
    "    \n",
    " =>  A string in Python is a sequence of unicode characters (alphabetical, numerical and all types of symbols.)  \n",
    "\n",
    " =>  A string can be written using either single, double and triple quotes.\n",
    "     \n",
    "         e.g.  'string',    \"string\",    '''string'''\n",
    "    "
   ]
  },
  {
   "cell_type": "markdown",
   "metadata": {},
   "source": [
    "    ##############   ##########   string Concatenation  ##############   ################\n",
    "    \n",
    " =>  String concatenation is a process to concatenate (combine) two strings. \n",
    " \n",
    "     >>> 'sudh' + \"kumar\"       \n",
    "     >>> 'sudh' + \"25\"\n",
    "     >>> \"sudh\" + '52.58'\n",
    "     >>> '25' + \"60.55\""
   ]
  },
  {
   "cell_type": "code",
   "execution_count": null,
   "metadata": {},
   "outputs": [],
   "source": [
    "      ###########      ###############    Type-casting of Values   ###############    #############\n",
    "    \n",
    " =>  int(value) -->  This typecastes the values into integer.\n",
    "\n",
    " =>  float(value) -->  This typecastes the value into a floating point number.\n",
    "    \n",
    " =>  str(value) -->  This typecastes the value into string.\n",
    "\n",
    "\n",
    "=>  NOTE -->  int() and float() only works on numerical values and raises a ValueError in the case of\n",
    "                                 Non-numerical values  like as 'cow', \"name\" etc. .\n",
    "    \n",
    "=>  NOTE -->  str() will work on every types of values and typecastes them to a string. \n",
    "\n",
    "        >>> str(1)       -->     '1'\n",
    "        >>> str(1.0)     -->     '1.0'"
   ]
  },
  {
   "cell_type": "markdown",
   "metadata": {},
   "source": [
    "    ##############    ###########   Boolean Expressions   ###############   ###############\n",
    "\n",
    " =>  Boolean expressions are created  by busing these keywords.\n",
    "          'and', 'or', 'not and', 'not or', 'is'\n",
    "       \n",
    "     => True and False    ---> False\n",
    "     => True or False     ---> True\n",
    "     => not True          ---> False\n",
    "     => not False         ---> True\n",
    "     => True is True      ---> True\n",
    "     => True is False     ---> False\n",
    "     => 'a' is 'a'        ---> True"
   ]
  },
  {
   "cell_type": "markdown",
   "metadata": {},
   "source": [
    "       ##############     #############    Keywords in Python    ###############     ###############\n",
    "\n",
    " =>  In programming, a keyword is a “reserved word” by the language which convey a special meaning to \n",
    "      the interpreter. \n",
    "    \n",
    " =>  It may be a command or a parameter.\n",
    "     \n",
    " =>  Keywords cannot be used as a variable name in the program snippet.\n",
    "    \n",
    " =>  Python language also reserves some of keywords that convey special meaning.\n",
    "                         \n",
    "      (False, elif, lambda, None, else, nonlocal, True, except, not, and, finally, or,\n",
    "         as, for, pass, assert, from, raise, break, global, return, class, if, try,\n",
    "         continue, import, while, def, in, with, del, is, yield)\n",
    "\n",
    " =>  Python defines an inbuilt module “keyword” which handles certain operations related to keywords. \n",
    "\n",
    " =>  keyword.iskeyword(string)   -->  This checks where a string is a valid keuword or not and return \n",
    "                                        Boolean values.\n",
    "    \n",
    " =>  keyword.kwlist() -->  This return all available keyword in python.\n",
    "  \n",
    "=> NOTE -->  For using above 2 functions, we should first impoprt the 'keyword' module.\n"
   ]
  },
  {
   "cell_type": "markdown",
   "metadata": {},
   "source": [
    "     #############   ############ Meaning of Keywords In Python    ##############   ################\n",
    "    \n",
    " \n",
    " =>  True : This keyword is used to represent a boolean true. If a statement is true, “True” is printed.\n",
    " \n",
    " =>  False : This keyword is used to represent a boolean false. If a statement is false, “False” is printed.\n",
    "              \n",
    "        \n",
    " =>  None : This is a special constant used to denote a null value or a void.\n",
    "             Its important to remember, 0, any empty container(e.g empty list) do not compute to None.\n",
    "            It is an object of its own datatype – NoneType. \n",
    "            It is not possible to create multiple None objects and can assign it to variables.\n",
    "            \n",
    " =>  and : This a logical operator in python. “and” Return the first false value if not found return last. \n",
    "            \n",
    "        \n",
    " =>  or : This a logical operator in python. “or” Return the first True value.if not found return last.\n",
    "           The truth table for “or” is depicted below. 3 or 0 returns 3; 3 or 10 returns 3; 0 or 0 or 3 or 10 or 0             returns 3\n",
    "      \n",
    " =>  not : This logical operator inverts the truth value. The truth table for “not” is depicted below.\n",
    " \n",
    "  \n",
    " =>  assert : This function is used for debugging purposes. Usually used to check the correctness of code.\n",
    "            If a statement evaluated to true, nothing happens, but when it is false, “AssertionError” is raised .\n",
    "             One can also print a message with the error, separated by a comma.\n",
    "            \n",
    " =>  break : “break” is used to control the flow of loop. The statement is used to break out of loop and passes \n",
    "                 the control to the statement following immediately after loop.\n",
    "\n",
    " =>  continue : “continue” is also used to control the flow of code. The keyword skips the current iteration of\n",
    "                  the loop, but does not end the loop. \n",
    "        \n",
    " =>   class : This keyword is used to declare user defined classes\n",
    "\n",
    " =>   def : This keyword is used to declare user defined functions\n",
    " \n",
    " =>    if : It is a control statement for decision making. \n",
    "              Truth expression forces control to go in “if” statement block.\n",
    "        \n",
    " =>    else : It is a control statement for decision making. \n",
    "                False expression forces control to go in “else” statement block.\n",
    "        \n",
    " =>   elif : It is a control statement for decision making. It is short for “else if”\n",
    " \n",
    " =>   del : del is used to delete a reference to an object. Any variable or list value can be deleted using del.\n",
    "    \n",
    " =>   try : This keyword is used for exception handling, used to catch the errors in the code using \n",
    "                the keyword except. \n",
    "             The code in “try” block is checked, if there is any type of error, except block is executed.\n",
    " \n",
    " =>   except : As explained above, this works together with “try” to catch exceptions.\n",
    " \n",
    " =>   raise : Also used for exception handling to explicitly raise exceptions.\n",
    "  \n",
    " =>   finally : No matter what is result of the “try” block, block termed “finally” is always executed\n",
    " \n",
    " =>   for : This keyword is used to control flow and for looping.\n",
    "\n",
    " =>   while : Has a similar working like “for” , used to control flow and for looping.\n",
    "    \n",
    " =>   pass : It is the null statement in python. Nothing happens when this is encountered. \n",
    "               This is used to prevent indentation errors and used as a placeholder.\n",
    " =>   import : This statement is used to include a particular module into current program.\n",
    "    \n",
    " =>   from : Generally used with import, from is used to import particular functionality from the module imported.\n",
    "    \n",
    " =>   as : This keyword is used to create the alias for the module imported.\n",
    "             i.e giving a new name to the imported module.. E.g import math as mymath.\n",
    "        \n",
    " =>   lambda : This keyword is used to make inline returning functions with no statements allowed internally.\n",
    " \n",
    " =>   return : This keyword is used to return from the function. \n",
    " \n",
    " =>   yield : This keyword is used like return statement but is used to return a generator.\n",
    " \n",
    " =>   with : This keyword is used to wrap the execution of block of code within methods defined by context manager.\n",
    "              This keyword is not used much in day to day programming.\n",
    " \n",
    " =>    in : This keyword is used to check if a container contains a value. \n",
    "              This keyword is also used to loop through the container.\n",
    "        \n",
    " =>    is : This keyword is used to test object identity, i.e to check if both the objects take same memory location or not.\n",
    "\n",
    " =>    global : This keyword is used to define a variable inside the function to be of a global scope.\n",
    "    \n",
    " =>    nonlocal : This keyword works similar to the global, but rather than global, this keyword declares\n",
    "                     a variable to point to variable of outside enclosing function, \n",
    "                        in case of nested functions.\n",
    "        \n",
    " "
   ]
  },
  {
   "cell_type": "markdown",
   "metadata": {},
   "source": [
    " ###############    ##########    Statements in Python   ################    ##################\n",
    "    \n",
    " =>  Instructions written in the source code for execution are called statements. \n",
    "     \n",
    " =>  There are different types of statements in the Python programming language like \n",
    "          * Assignment statement,\n",
    "          * Conditional statement, \n",
    "          * Looping statements etc. \n",
    "     \n",
    " =>  Multiline statements -->\n",
    "\n",
    " =>  Statements in Python can be extended to one or more lines using parentheses (), \n",
    "       braces {}, square brackets [], semi-colon (;), continuation character slash (\\).\n",
    "    \n",
    " =>  When the programmer needs to do long calculations and cannot fit his statements into one line, \n",
    "         one can make use of these characters.\n",
    "        \n",
    "    "
   ]
  },
  {
   "cell_type": "markdown",
   "metadata": {},
   "source": [
    " =>  '#' is used in front of any line of code to make it a comment in Python.\n",
    "    \n",
    " =>  The particular line of code following the '#' character is get ignored by the compiler and not executed. "
   ]
  }
 ],
 "metadata": {
  "kernelspec": {
   "display_name": "Python 3",
   "language": "python",
   "name": "python3"
  },
  "language_info": {
   "codemirror_mode": {
    "name": "ipython",
    "version": 3
   },
   "file_extension": ".py",
   "mimetype": "text/x-python",
   "name": "python",
   "nbconvert_exporter": "python",
   "pygments_lexer": "ipython3",
   "version": "3.7.7"
  }
 },
 "nbformat": 4,
 "nbformat_minor": 2
}
