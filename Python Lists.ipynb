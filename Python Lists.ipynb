{
 "cells": [
  {
   "cell_type": "code",
   "execution_count": null,
   "metadata": {},
   "outputs": [],
   "source": [
    "  #######   #######   #######  Lists In Python  #######  #########   ########   ########"
   ]
  },
  {
   "cell_type": "code",
   "execution_count": null,
   "metadata": {},
   "outputs": [],
   "source": [
    " =>  List in Python is a a very popular container.\n",
    "\n",
    " =>  A List may contain various datatypes like as strings, integers and objects etc. .\n",
    " \n",
    " =>  List is a mutable container, i.e., contents can be altered even after their creation.\n",
    " \n",
    " =>  List in Python are ordered and have a definite count. The elements in a list are indexed\n",
    "       according to a definite sequence and the indexing of a list is done with 0 being the first index. \n",
    " \n",
    " =>  Each element in the list has its definite place in the list, which allows duplicating of elements in the list,\n",
    "         with each element having its own distinct place and credibility.\n",
    "        "
   ]
  },
  {
   "cell_type": "code",
   "execution_count": null,
   "metadata": {},
   "outputs": [],
   "source": [
    "#          #        Creation of a List        #            #\n",
    "\n",
    " =>  A List can be created by just placing the sequence into Square Brackets.\n",
    "         e.g., list = [1, 2, 'abc', \"def\", 2.154, 1, 2]\n",
    "\n",
    " =>  Lists dont have a built-in function for their creation.\n",
    " \n",
    " =>  Lists may contain mutable elements, so they can be altered any time.\n",
    "    \n",
    " =>  A Nested List contain other lists as elements.\n",
    "         e.g., nested_list = [[1, 2, 3], [1, 2]]\n",
    "    \n",
    " =>  type(container) returns the type of container passing as arguments. \n",
    "         e.g., type(list) ==>  list\n",
    "    \n",
    " =>  len(container) returns the length of container passing as argument.\n",
    "         e.g., len(list) ==>  Any integer value"
   ]
  },
  {
   "cell_type": "code",
   "execution_count": null,
   "metadata": {},
   "outputs": [],
   "source": [
    "#        #      accessing the elements of a list      #             #\n",
    "\n",
    " =>  Elements of a list can be accessed by using an index operator [] .\n",
    "     \n",
    " =>  We passes some integers as the indexes for accessing the elements of a list.\n",
    "        Negative integers are used for indexing in reversed direction. \n",
    "    \n",
    " => list[][] is used to access elements in a nested list.\n",
    "\n",
    "    #   Indexing Diagram for List elements    \n",
    "                                                                               <-------------- Reverse Direction\n",
    "       -13    -12    -11    -10    -9     -8     -7     -6     -5     -4     -3     -2     -1\n",
    "                                                                                          \n",
    "        G      E      E      K      S      F      O      R      G      E      E      K      S\n",
    "                                        \n",
    "        1      2      3      4      5      6      7      8      9      10     11     12     13\n",
    "        ------------->\n",
    "                                    \n",
    "            \n",
    ">>> list = ['G', 'E', 'E', 'K', 's']               #  Creating a list\n",
    "\n",
    ">>> list[0]   --->   'G'                           #  Accessing item at '0' th index\n",
    ">>> list[1]   --->   'E'\n",
    ">>> list[-1]  --->   'S'                           #  Accessing elements at '-1' st index or last element\n",
    "\n",
    " "
   ]
  },
  {
   "cell_type": "code",
   "execution_count": null,
   "metadata": {},
   "outputs": [],
   "source": [
    "<img src=\"images/indexing.png\">"
   ]
  },
  {
   "cell_type": "code",
   "execution_count": null,
   "metadata": {},
   "outputs": [],
   "source": [
    "#            #       Slicing Operation on Lists         #             #\n",
    "\n",
    " =>  Slicing operation on Lists is used for slicing down a list or printing elements of a list in specific range.\n",
    " =>  This Slicing operation is performed by using [:].\n",
    "\n",
    ">>> list[:]     --->   Slices & Prints whole list \n",
    ">>> list[i:]    --->   Slices & Prints elements from 'i' th index to end by including the element at 'i' th index.\n",
    ">>> list[:j]    --->   Slices & Prints elements from beginning to 'j'th index and excludes the item at 'j' th index.\n",
    "\n",
    ">>> list[::]    --->   Slices & Prints whole list\n",
    ">>> list[::n]   --->   Slices & Prints whole list with a jump of 'n' items.\n",
    ">>> list[::-n]  --->   Slices & Prints the whole list with a jump of 'n' items in reverse direction.\n",
    "\n",
    ">>> list[::-1]  --->   Slices & Prints the whole list in reverse direction.\n",
    "\n",
    ">>> list[-1:-4:1]   --->  This returns an Empty list.\n",
    ">>> list[-1:-4:-1]  --->  This slices and prints elements in range (-1, -4) in Reversed direction.\n",
    "\n",
    ">>> list[-4:-1:1]  --->   This slices and prints elements in range (-4, -1) in real direction.\n",
    ">>> list[-4:-1:-1]  --->  This returns an Empty List."
   ]
  },
  {
   "cell_type": "code",
   "execution_count": null,
   "metadata": {},
   "outputs": [],
   "source": [
    "    ###########     ###########    List Concatenation  & Replication    #############   ###############\n",
    "    \n",
    "  =>  '+' operator is used to concatenate two lists.\n",
    "    \n",
    "        >>> [1, 2, 3] + [ 'a','b', 'c']  ->  [1, 2, 3, 'a', 'b', 'c']\n",
    "        \n",
    "  =>  '*' operator ios used to replicate a list.\n",
    "\n",
    "        >>> [1, 2, 3] * 3   ->  [1, 2, 3, 1, 2, 3, 1, 2, 3]"
   ]
  },
  {
   "cell_type": "raw",
   "metadata": {},
   "source": [
    "#        #       Some  List methods and Built-in Functions        #          #"
   ]
  },
  {
   "cell_type": "markdown",
   "metadata": {},
   "source": [
    "<img src=\"images/list-methods.png\">"
   ]
  },
  {
   "cell_type": "code",
   "execution_count": null,
   "metadata": {},
   "outputs": [],
   "source": [
    "    #######   #########  List In-built Methods   ########   ##########   #########\n",
    "    \n",
    " >>> list.append(object)  -->  This is used to append the passing object to end of list.\n",
    "                                Any object (int, float, string, list, set, tuple, dict) can pass thru it. \n",
    "\n",
    "     =>  If we are adding a list thru append(), we get a nested list.\n",
    "    \n",
    "\n",
    "\n",
    " >>> list.extend(iterable)  -->  This extends the list by adding items of an iterable.\n",
    "                                   We can pass a string, list, set, tuple etc. .\n",
    "     \n",
    "     =>  extend() unpackl the data-set first and then adds all values to the list.\n",
    "     =>  if we are passing a Nested list thru extend(), it will unpack the outer list and adds\n",
    "    \n",
    "\n",
    "\n",
    " >>> list.insert(index, object) -->  This inserts an object before the given index in list.\n",
    "    \n",
    "\n",
    " >>> list.remove(value) -->  This removes the 1st occurence of the item passing as 'value'.\n",
    "\n",
    " \n",
    " >>> list.pop(index) -->  This removes and return the item at given index.  By-default index is (-1) .\n",
    "\n",
    "      \n",
    "      =>  It raises IndexError, in case of Empty List and if given index is out of range.\n",
    "                          \n",
    "                           \n",
    " \n",
    " >>> list.clear()  -->  This removes all items from the list and return an Empty List.\n",
    "\n",
    " \n",
    " >>> list.index(value)  -->  This return 1st index of value & raises ValueError if that value not exists.\n",
    "  \n",
    " \n",
    " >>> list.count(value)  -->  This returns the number of all occurrences of a value.\n",
    "                               If any value is not present, then it return 0.\n",
    "                             \n",
    " \n",
    " >>> list.sort(key, reverse)  -->  This return a sorted list with all of items arranged in Ascending order.\n",
    "                                    reverse = (Default value False) for Ascending order.\n",
    "                                            =  and True for Descending order.\n",
    "        \n",
    " \n",
    " >>> list.reverse()  -->  This return the list in Reversed order.\n",
    "\n",
    " \n",
    " >>> list.copy()  -->  This return a shallow copy of the list."
   ]
  },
  {
   "cell_type": "code",
   "execution_count": null,
   "metadata": {},
   "outputs": [],
   "source": [
    "  ##########   ########  Some Built-in Functions for List  ##########   ###########   ##########   ########"
   ]
  },
  {
   "cell_type": "markdown",
   "metadata": {},
   "source": [
    "<img src=\"images/list-functions1.png\">"
   ]
  },
  {
   "cell_type": "markdown",
   "metadata": {},
   "source": [
    "<img src=\"images/list-functions2.png\">"
   ]
  },
  {
   "cell_type": "code",
   "execution_count": null,
   "metadata": {},
   "outputs": [],
   "source": [
    "  ##########   ########   ########  reduce()   ##########   ###########   ##########   ########\n",
    "    \n",
    " >>> sum(iterable, start)  -->  This return the sum of a 'start' value (default: 0) and numerical values \n",
    "                                 of an iterable. When iterable is empty, it returns the 'start' value.\n",
    "        \n",
    "        >>> sum(list) -->  This returns sum of all items of a normal list.\n",
    "       \n",
    "        >>> sum(list[][]..) -->  This returns the sum of a particular list in Nested list.\n",
    "        \n",
    "        \n",
    "\n",
    " >>> ord(c)  -->  This returns the number representing the unicode code of a specified character.\n",
    "                    It works only for a single-character string like as '0', '2', '5', 'a', 'z' .\n",
    "                    \n",
    "     =>  NOTE - strings of digits (0-9) and (a-z) are only allowed to be passed through this function.\n",
    "            \n",
    "\n",
    " >>> max(iterable)  -->  Return the largest item in an iterable or the largest of two or more arguments.\n",
    "\n",
    "    \n",
    "    => If one positional argument is provided, it should be an iterable. The largest item in the iterable\n",
    "             is returned.\n",
    "        \n",
    "    => If two or more positional arguments are provided, the largest of the positional arguments is returned. \n",
    "                \n",
    " \n",
    " >>> min(iterable)  -->  This return the smallest item of an iterable.\n",
    "                         \n",
    "    => If two or more positional arguments are provided, the largest of the positional arguments is returned.\n",
    "        \n",
    " \n",
    " >>> all(iterable)  -->  This return True, if allbool(x) is True for all values x in the iterable.\n",
    " \n",
    " >>> any(iterable)  -->  This return True, if if bool(x) is True for any x in the iterable.\n",
    "\n",
    " >>> len(object)  -->  This return the size of an object(iterable).\n",
    " \n",
    " >>> enumerate(iterable, start=0) --> This return an enumerate object.\n",
    "\n",
    " "
   ]
  },
  {
   "cell_type": "code",
   "execution_count": null,
   "metadata": {},
   "outputs": [],
   "source": [
    "   #######   #############  Filter() on lists  #######   ##############   ########   #########\n",
    "    \n",
    " >>> filter(function, iterable) \n",
    "\n",
    "  =>  This construct an iterator from those elements of iterable for which function returns true. \n",
    "     \n",
    "  =>  Iterable may be either a sequence, a container which supports iteration, or an iterator. \n",
    "    \n",
    "  =>  If function is None, the identity function is assumed, that is, all elements of iterable \n",
    "        that are false are removed."
   ]
  },
  {
   "cell_type": "code",
   "execution_count": null,
   "metadata": {},
   "outputs": [],
   "source": [
    "   #######   #############  map() on lists  #######   ##############   ########   #########\n",
    "\n",
    " >>> map(function, iterable, ...)\n",
    "\n",
    " =>  This return an iterator that applies function to every item of iterable, yielding the results\n",
    "\n",
    " =>  If additional iterable arguments are passed, function must take that many arguments and is applied\n",
    "      to the items from all iterables in parallel. \n",
    "        \n",
    " =>  With multiple iterables, the iterator stops when the shortest iterable is exhausted. \n",
    "     "
   ]
  },
  {
   "cell_type": "code",
   "execution_count": null,
   "metadata": {},
   "outputs": [],
   "source": [
    " #######   #############  reduce() on lists  #######   ##############   ########   #########\n",
    "    \n",
    " >>> reduce()\n",
    "\n",
    " =>  Apply function of two arguments cumulatively to the items of sequence, from left to right,\n",
    "       so as to reduce the sequence to a single value.\n",
    "        \n",
    "      e.g.,  reduce(lambda x, y: x+y, [1, 2, 3, 4, 5])"
   ]
  },
  {
   "cell_type": "code",
   "execution_count": null,
   "metadata": {},
   "outputs": [],
   "source": [
    " #######   #############  lambda() on lists  #######   ##############   ########   #########\n",
    "     \n",
    " >>> "
   ]
  },
  {
   "cell_type": "markdown",
   "metadata": {},
   "source": [
    "   [  For List - Documentations, Click Here ](https://docs.python.org/3.8/library/stdtypes.html#list) "
   ]
  }
 ],
 "metadata": {
  "kernelspec": {
   "display_name": "Python 3",
   "language": "python",
   "name": "python3"
  },
  "language_info": {
   "codemirror_mode": {
    "name": "ipython",
    "version": 3
   },
   "file_extension": ".py",
   "mimetype": "text/x-python",
   "name": "python",
   "nbconvert_exporter": "python",
   "pygments_lexer": "ipython3",
   "version": "3.7.7"
  }
 },
 "nbformat": 4,
 "nbformat_minor": 4
}
