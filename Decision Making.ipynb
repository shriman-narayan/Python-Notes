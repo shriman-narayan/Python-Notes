{
 "cells": [
  {
   "cell_type": "code",
   "execution_count": null,
   "metadata": {},
   "outputs": [],
   "source": [
    "    ###############   ##########   Decision making in Python    ##############    ###############\n",
    "    \n",
    " =>  There comes situations in real life when we need to make some decisions and based on these decisions, \n",
    "       we decide what should we do next. \n",
    "     \n",
    " =>  Similar situations arises in programming also where we need to make some decisions and based on \n",
    "      these decision we will execute the next block of code.\n",
    "    \n",
    " =>  Decision making statements in programming languages decides the direction of flow of program execution.\n",
    "\n",
    " =>  There are 4 types of Decision-making statements available in Python.\n",
    "    \n",
    "         *  if statement\n",
    "         *  if ..else statement\n",
    "         *  nested-if statement\n",
    "         *  if-elif ladder\n",
    "            \n",
    "=> NOTE -->     *  Take care of proper indentations during the code.\n",
    "                *  Dont forget to use colon after the conditions in statements.\n",
    "                *  We can use braces for conditions."
   ]
  },
  {
   "cell_type": "code",
   "execution_count": null,
   "metadata": {},
   "outputs": [],
   "source": [
    "       ##############   ############  if statement   ###########   #################\n",
    "    \n",
    " =>  if statement is the most simple decision making statement.\n",
    "\n",
    " =>  It is used to decide whether a certain statement or block of statements will be executed or not.\n",
    "      i.e if a certain condition is true then a block of statement is executed otherwise not.\n",
    "        \n",
    "      syntax -->  if condition:\n",
    "                    # Statements to execute if\n",
    "                    # condition is true\n",
    "          \n",
    "             \n",
    " =>  Here, condition after evaluation will be either true or false. \n",
    "  \n",
    " =>  if statement accepts boolean values- True or False.\n",
    "\n",
    " =>  If the value is True then it will execute the block of statements below it otherwise not execute it.\n",
    "        and move to next lines of code.\n",
    "    \n",
    " =>  We can use condition with bracket (..) also.\n",
    "\n",
    " =>  Python uses indentation to define a block of code.\n",
    "    "
   ]
  },
  {
   "cell_type": "markdown",
   "metadata": {},
   "source": [
    "<img src=\"images/if-indent.png\">"
   ]
  },
  {
   "cell_type": "markdown",
   "metadata": {},
   "source": [
    "<img src=\"images/if.png\">"
   ]
  },
  {
   "cell_type": "code",
   "execution_count": null,
   "metadata": {},
   "outputs": [],
   "source": [
    "      ##############   ############  if..else statement   ###########   #################\n",
    "    \n",
    " =>  We can use the else statement with if statement to execute a block of code when the condition is false.\n",
    "\n",
    " =>  When condition is True, statements inside if block gets executed.\n",
    "    \n",
    " =>  When condition is False, statements inside else block gets executed.   "
   ]
  },
  {
   "cell_type": "markdown",
   "metadata": {},
   "source": [
    "<img  src=\"images/if-else-syntax.png\">"
   ]
  },
  {
   "cell_type": "markdown",
   "metadata": {},
   "source": [
    "<img  src=\"images/if-else.png\">"
   ]
  },
  {
   "cell_type": "code",
   "execution_count": null,
   "metadata": {},
   "outputs": [],
   "source": [
    "##############   ############  if-elif-else Ladder  ###########   #################\n",
    "  \n",
    " =>  This consists of a if statement and some more elif and else statements.\n",
    "\n",
    " =>  elif (else-if) statements aresimilar to if statements and used to check some more conditions in a code.\n",
    "    \n",
    " =>  Wherever the condition get evaluates to True, that statement is executed and whole \n",
    "          remaining ladder is bypassed. \n",
    "       \n",
    " =>  When all if and elif statements get evaluated to False, then the else block is executed.\n"
   ]
  },
  {
   "cell_type": "markdown",
   "metadata": {},
   "source": [
    "<img src=\"images/if-else-ladder-syntax.png\">"
   ]
  },
  {
   "cell_type": "markdown",
   "metadata": {},
   "source": [
    "<img src=\"images/if-else-ladder-flowchart.png\">"
   ]
  },
  {
   "cell_type": "code",
   "execution_count": null,
   "metadata": {},
   "outputs": [],
   "source": [
    "  ##############   ############  Nested if-elif-else Statements  ###########   #################\n",
    "    \n",
    " =>  A nested if is an if statement that is the target of another if statement.\n",
    "\n",
    " =>  Nested if statements means an if statement inside another if statement. \n",
    "    \n",
    " =>  Python allows us to nest if statements within if statements. \n",
    "       i.e, we can place an if statement inside another if statement."
   ]
  },
  {
   "cell_type": "markdown",
   "metadata": {},
   "source": [
    "<img src=\"images/nested-if-syntax.png\">"
   ]
  },
  {
   "cell_type": "markdown",
   "metadata": {},
   "source": [
    "<img src=\"images/nested-if.png\">"
   ]
  }
 ],
 "metadata": {
  "kernelspec": {
   "display_name": "Python 3",
   "language": "python",
   "name": "python3"
  },
  "language_info": {
   "codemirror_mode": {
    "name": "ipython",
    "version": 3
   },
   "file_extension": ".py",
   "mimetype": "text/x-python",
   "name": "python",
   "nbconvert_exporter": "python",
   "pygments_lexer": "ipython3",
   "version": "3.7.7"
  }
 },
 "nbformat": 4,
 "nbformat_minor": 4
}
