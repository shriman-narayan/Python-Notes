{
 "cells": [
  {
   "cell_type": "code",
   "execution_count": null,
   "metadata": {},
   "outputs": [],
   "source": [
    "   #########   ##########    #########  Python Arrays   #############    ############   ###########   #########"
   ]
  },
  {
   "cell_type": "code",
   "execution_count": null,
   "metadata": {},
   "outputs": [],
   "source": [
    " =>  Python has one very popular datatypes --> Array .\n",
    " =>  This array is handled by a module named -->  \"array\" .          "
   ]
  },
  {
   "cell_type": "markdown",
   "metadata": {},
   "source": [
    "<img src=\"images/characters.png\">"
   ]
  },
  {
   "cell_type": "code",
   "execution_count": null,
   "metadata": {},
   "outputs": [],
   "source": [
    " =>    Operations on Array --->\n",
    "  \n",
    " =>  array(data type, value list) :- This function is used to create an array with data type and value list \n",
    "                                      specified in its arguments. Some of data types are listed in the above table.\n",
    "    \n",
    " =>  append(x) :- This function is used to add the value mentioned in its arguments at the end of the array.\n",
    "                  e.g.,  arr.append(x)  -->  x is the value.\n",
    "\n",
    " =>  insert(i,x) :- This function is used to add the value at the position specified in its argument.\n",
    "                      e.g.,  arr.insert(i,x) -->  i is the index or position and x is the value to be inserted.\n",
    "    \n",
    " =>   pop(i) :- This function removes the element at the position mentioned in its argument, and returns it.\n",
    "\n",
    " =>  remove() :- This function is used to remove the first occurrence of the value mentioned in its arguments.\n",
    "    \n",
    " =>  index() :- This function returns the index of the first occurrence of value mentioned in arguments.\n",
    "\n",
    " =>  reverse() :- This function reverses the array.\n",
    "\n",
    " =>  typecode :- This function returns the data type by which array is initialised.\n",
    "    \n",
    " =>   itemsize :- This function returns size in bytes of a single array element.\n",
    "\n",
    " =>  buffer_info() :- Returns a tuple representing the address in which array is stored and number of elements in it.\n",
    "\n",
    " =>  count() :- This function counts the number of occurrences of argument mentioned in array.\n",
    "\n",
    " =>  extend(arr) :- This function appends a whole array mentioned in its arguments to the specified array.\n",
    "    \n",
    " =>  fromlist(list) :- This function is used to append a list mentioned in its argument to end of array.\n",
    "\n",
    " =>   tolist() :- This function is used to transform an array into a list.\n",
    "\n",
    " =>  "
   ]
  },
  {
   "cell_type": "code",
   "execution_count": 4,
   "metadata": {},
   "outputs": [
    {
     "name": "stdout",
     "output_type": "stream",
     "text": [
      "The new created array is :  1 2 3 \n",
      "\n",
      "The appended array is : 1 2 3 5 \n",
      "\n",
      "array after inserting the value is : 1 2 5 3 5 \n",
      "\n",
      "The popped array is : 1 2 5 5 \n",
      "\n",
      "Array after removing the value is : 1 5 5 \n",
      "\n",
      "The index of 1st occurrence of 5 is -->  1\n",
      "\n",
      "\n",
      "The reversed array is : 3 2 1 "
     ]
    }
   ],
   "source": [
    "# Python program demonstrating the various operations over array\n",
    "\n",
    "#importing array\n",
    "import array\n",
    "\n",
    "# initializing array with array values \n",
    "# initializes array with signed integers \n",
    "arr = array.array('i', [1, 2, 3])  \n",
    "\n",
    "  \n",
    "# printing original array \n",
    "print (\"The new created array is : \",end=\" \") \n",
    "for i in range (0, 3): \n",
    "    print (arr[i], end=\" \") \n",
    "    \n",
    "print(\"\\n\")\n",
    "  \n",
    "# Using append() for adding a value to the end of array\n",
    "arr.append(5)\n",
    "\n",
    "# Printing appended array \n",
    "print(\"The appended array is : \", end=\"\") \n",
    "for i in range (0, 4): \n",
    "    print (arr[i], end=\" \") \n",
    "\n",
    "print(\"\\n\")\n",
    "\n",
    "# Using insert(i, x) to add a value at the desired position\n",
    "arr.insert(2, 5)\n",
    "\n",
    "# printing new array \n",
    "print(\"array after inserting the value is : \", end=\"\") \n",
    "for i in range (0, 5): \n",
    "    print (arr[i], end=\" \") \n",
    "\n",
    "print(\"\\n\")\n",
    "\n",
    "# using pop() to remove an element at desired position.\n",
    "arr.pop(3)\n",
    "\n",
    "# printing popped array \n",
    "print(\"The popped array is : \", end=\"\") \n",
    "for i in range (0, 4): \n",
    "    print (arr[i], end=\" \") \n",
    "    \n",
    "print(\"\\n\")\n",
    "\n",
    "# Using remove() to remove the 1st occurrence of the value mentioned in arguments.\n",
    "arr.remove(2)\n",
    "\n",
    "# printing array after removing  \n",
    "print(\"Array after removing the value is : \", end=\"\") \n",
    "for i in range (0, 3): \n",
    "    print (arr[i], end=\" \") \n",
    "    \n",
    "print(\"\\n\")\n",
    "\n",
    "# Using index() to return the index of 1st occurrence of the value mentioned in argument.\n",
    "print (\"The index of 1st occurrence of 5 is --> \", arr.index(5))     # this will return the index.\n",
    "print(\"\\n\")\n",
    "\n",
    "# Using reverse() to reverse the array....\n",
    "arr1 = array.array('i', [1, 2, 3])  \n",
    "arr1.reverse()\n",
    "\n",
    "# printing reversed array \n",
    "print(\"The reversed array is : \", end=\"\") \n",
    "for i in range (0, 3): \n",
    "    print (arr1[i], end=\" \") "
   ]
  },
  {
   "cell_type": "code",
   "execution_count": 9,
   "metadata": {},
   "outputs": [
    {
     "name": "stdout",
     "output_type": "stream",
     "text": [
      "The datatype of array is : i\n",
      "\n",
      "\n",
      "The itemsize of array is : 4\n",
      "The buffer info. of array is : (139816290562896, 6)\n",
      "\n",
      "\n",
      " The no. of occurences of 1 in array 'arr' is :  2\n"
     ]
    }
   ],
   "source": [
    "# importing \"array\" for array operations \n",
    "import array \n",
    "   \n",
    "# initializing array with array values \n",
    "# initializes array with signed integers \n",
    "arr= array.array('i',[1, 2, 3, 1, 2, 5])  \n",
    "  \n",
    "# using typecode to print datatype of array \n",
    "print (\"The datatype of array is : \",end=\"\") \n",
    "print (arr.typecode) \n",
    "\n",
    "print(\"\\n\")\n",
    "\n",
    "# using itemsize to print itemsize of array \n",
    "print (\"The itemsize of array is : \",end=\"\") \n",
    "print (arr.itemsize) \n",
    "  \n",
    "# using buffer_info() to print buffer info. of array \n",
    "print (\"The buffer info. of array is : \",end=\"\") \n",
    "print (arr.buffer_info()) \n",
    "print (\"\\n\")\n",
    "\n",
    "# using count() to count the occurences of an element mentioned in arguement\n",
    "print(\" The no. of occurences of 1 in array 'arr' is : \", arr.count(1))"
   ]
  },
  {
   "cell_type": "code",
   "execution_count": 15,
   "metadata": {},
   "outputs": [
    {
     "name": "stdout",
     "output_type": "stream",
     "text": [
      "The new array created after adding 2nd array is :- \n",
      "1 2 3 1 2 5 3 2 1 "
     ]
    }
   ],
   "source": [
    "# using extend(arr) to add a whole array to other array\n",
    "arr.extend(arr1)\n",
    "\n",
    "# printing the new array \n",
    "print (\"The new array created after adding 2nd array is :- \")\n",
    "for i in range (0, 9): \n",
    "    print (arr[i], end=\" \") "
   ]
  },
  {
   "cell_type": "code",
   "execution_count": 18,
   "metadata": {},
   "outputs": [
    {
     "name": "stdout",
     "output_type": "stream",
     "text": [
      "The new array is : 1 2 3 1 2 5 3 2 1 3 2 1 "
     ]
    }
   ],
   "source": [
    "# Using fromlist(list) to add a list to an array\n",
    "\n",
    "# Initialising a list\n",
    "list = [8, 5, 3]\n",
    "\n",
    "# Using fromlist(list)\n",
    "arr.fromlist(list)\n",
    "\n",
    "# printing new array \n",
    "print(\"The new array is : \", end=\"\") \n",
    "for i in range (0, 12): \n",
    "    print (arr[i], end=\" \") "
   ]
  },
  {
   "cell_type": "code",
   "execution_count": 26,
   "metadata": {},
   "outputs": [
    {
     "name": "stdout",
     "output_type": "stream",
     "text": [
      "The transformed list is :  [1, 2, 3, 1, 2, 5, 3, 2, 1, 3, 2, 1, 3, 2, 1, 3, 2, 1, 8, 5, 3, 8, 5, 3, 8, 5, 3] "
     ]
    }
   ],
   "source": [
    "# Using tolist() to transform an array into list\n",
    "\n",
    "transformed_list = arr.tolist()\n",
    "print (\"The transformed list is : \", transformed_list, end=\" \")"
   ]
  },
  {
   "cell_type": "markdown",
   "metadata": {},
   "source": [
    "[ For Python Documentation Over Arrays, Click Here ](https://docs.python.org/3/library/array.html?highlight=arrays)"
   ]
  }
 ],
 "metadata": {
  "kernelspec": {
   "display_name": "Python 3",
   "language": "python",
   "name": "python3"
  },
  "language_info": {
   "codemirror_mode": {
    "name": "ipython",
    "version": 3
   },
   "file_extension": ".py",
   "mimetype": "text/x-python",
   "name": "python",
   "nbconvert_exporter": "python",
   "pygments_lexer": "ipython3",
   "version": "3.7.7"
  }
 },
 "nbformat": 4,
 "nbformat_minor": 4
}
