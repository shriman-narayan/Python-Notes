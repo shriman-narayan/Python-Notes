{
 "cells": [
  {
   "cell_type": "code",
   "execution_count": null,
   "metadata": {},
   "outputs": [],
   "source": [
    " "
   ]
  },
  {
   "cell_type": "code",
   "execution_count": null,
   "metadata": {},
   "outputs": [],
   "source": []
  },
  {
   "cell_type": "code",
   "execution_count": 4,
   "metadata": {},
   "outputs": [
    {
     "data": {
      "text/plain": [
       "'S'"
      ]
     },
     "execution_count": 4,
     "metadata": {},
     "output_type": "execute_result"
    }
   ],
   "source": [
    " "
   ]
  },
  {
   "cell_type": "code",
   "execution_count": null,
   "metadata": {},
   "outputs": [],
   "source": [
    "   ##########    #############    Iterator Functions in Python    ##########    #############\n",
    "    \n",
    " =>  Python contain iterator functions in module 'itertool' for efficient looping and making execution \n",
    "       of the code faster.\n",
    "\n",
    " => accumulate(iter, func) ->  This iterator takes two arguments, iterable target and the function which would \n",
    "                                be followed at each iteration of value in target. \n",
    "                             \n",
    "        => If no function is passed, addition takes place by default.\n",
    "           \n",
    "        => If the input iterable is empty, the output iterable will also be empty.\n",
    "            \n",
    " \n",
    " => chain(iter1, iter2..) :- This function is used to print all the values in iterable targets one after another \n",
    "                                mentioned in its arguments.\n",
    "        \n",
    " => chain.from_iterable() :- This function is similar to chain() but the argument is a list of lists or\n",
    "                                any other iterable container.\n",
    "        \n",
    " => compress(iter, selector) :- This iterator selectively picks the values to print from the passed container \n",
    "                                  according to the boolean list value passed as other argument. \n",
    "                 \n",
    "                                The arguments corresponding to boolean true are printed else all are skipped.\n",
    "                \n",
    " => dropwhile(func, seq) :- This iterator starts printing the characters only after the function\n",
    "                                in argument returns false for the first time.\n",
    "        \n",
    " => filterfalse(func, seq) :- As the name suggests, this iterator prints only values that \n",
    "                                   return false for the passed function.\n",
    "    \n",
    " => islice(iterable, start, stop, step) :- This iterator selectively prints the values mentioned in its iterable \n",
    "                                             container passed as argument. \n",
    "                                          This iterator takes 4 arguments, iterable container, starting pos., \n",
    "                                            ending position and step.\n",
    "                \n",
    " => starmap(func., tuple list) :- This iterator takes a function and tuple list as argument \n",
    "                                    and returns the value according to the function from each tuple of list.\n",
    "        \n",
    " => takewhile(func, iterable) :- This iterator is opposite of dropwhile(), it prints the values till the function \n",
    "                                   return false for 1st time.\n",
    "        \n",
    " => tee(iterator, count) :- This iterator splits the container into a number of iterators mentioned \n",
    "                              in the argument.\n",
    "    \n",
    " => zip_longest( iterable1, iterable2, fillval.) :- This iterator prints the values of iterables alternatively\n",
    "                                                     in sequence.\n",
    "        \n",
    "        => If one of the iterables is printed fully, remaining values are filled by the values\n",
    "               assigned to fillvalue.\n",
    "            \n",
    " => product(iter1, iter2) :- This iterator prints the cartesian product of the two iterable containers \n",
    "                                passed as arguments.\n",
    "        \n",
    " => permutations(iter, group_size) :- This iterator prints all possible permutation of all elements of iterable. \n",
    "                                        The size of each permuted group is decided by group_size argument.\n",
    "        \n",
    " => combinations(iterable, group_size) :- This iterator prints all the possible combinations (without replacement) \n",
    "                                            of the container passed in arguments in the specified group size\n",
    "                                                in sorted order.\n",
    "            \n",
    " => combinations_with_replacement(iterable, group_size) :- This iterator prints all the possible combinations \n",
    "                                                            (with replacement) of the container passed in arguments \n",
    "                                                           in the specified group size in sorted order.\n",
    "            \n",
    " => count(start, step) :- This iterator starts printing from the “start” number and prints infinitely. \n",
    "                             If steps are mentioned, the numbers are skipped else step is 1 by default.\n",
    "        \n",
    "         \n",
    "    e.g.   iterator.count(5,2) prints -- 5,7,9,11...infinitely\n",
    "    \n",
    " => cycle(iterable) :- This iterator prints all values in order from the passed container. \n",
    "                        It restarts printing from beginning again when all elements are printed in a cyclic manner.\n",
    "\n",
    "     e.g.  iterator.cycle([1,2,3,4]) prints -- 1,2,3,4,1,2,3,4,1..\n",
    "    \n",
    " => repeat(val, num) :- This iterator repeatedly prints the passed value infinite number of times. \n",
    "                          If num. is mentioned, them till that number."
   ]
  },
  {
   "cell_type": "code",
   "execution_count": null,
   "metadata": {},
   "outputs": [],
   "source": []
  },
  {
   "cell_type": "code",
   "execution_count": 1,
   "metadata": {},
   "outputs": [
    {
     "name": "stdout",
     "output_type": "stream",
     "text": [
      "The sum after each iteration is : [1, 5, 10, 17]\n",
      "The product after each iteration is : [1, 4, 20, 140]\n",
      "All values in mentioned chain are : [1, 4, 5, 7, 1, 6, 5, 9, 8, 10, 5, 4]\n"
     ]
    }
   ],
   "source": [
    "# Python code to demonstrate the working of \n",
    "# accumulate() and chain() \n",
    "\n",
    "# importing \"itertools\" for iterator operations \n",
    "import itertools \n",
    "\n",
    "# importing \"operator\" for operator operations \n",
    "import operator \n",
    "\n",
    "# initializing list 1 \n",
    "li1 = [1, 4, 5, 7] \n",
    "\n",
    "# initializing list 2 \n",
    "li2 = [1, 6, 5, 9] \n",
    "\n",
    "# initializing list 3 \n",
    "li3 = [8, 10, 5, 4] \n",
    "\n",
    "# using accumulate() \n",
    "# prints the successive summation of elements \n",
    "print (\"The sum after each iteration is : \",end=\"\") \n",
    "print (list(itertools.accumulate(li1))) \n",
    "\n",
    "# using accumulate() \n",
    "# prints the successive multiplication of elements \n",
    "print (\"The product after each iteration is : \",end=\"\") \n",
    "print (list(itertools.accumulate(li1,operator.mul))) \n",
    "\n",
    "# using chain() to print all elements of lists \n",
    "print (\"All values in mentioned chain are : \",end=\"\") \n",
    "print (list(itertools.chain(li1,li2,li3))) \n"
   ]
  },
  {
   "cell_type": "code",
   "execution_count": null,
   "metadata": {},
   "outputs": [],
   "source": [
    "# Python code to demonstrate the working of \n",
    "# chain.from_iterable() and compress() \n",
    "\n",
    "# importing \"itertools\" for iterator operations \n",
    "import itertools \n",
    "\n",
    "# initializing list 1 \n",
    "li1 = [1, 4, 5, 7] \n",
    "\n",
    "# initializing list 2 \n",
    "li2 = [1, 6, 5, 9] \n",
    "\n",
    "# initializing list 3 \n",
    "li3 = [8, 10, 5, 4] \n",
    "\n",
    "# intializing list of list \n",
    "li4 = [li1, li2, li3] \n",
    "\n",
    "# using chain.from_iterable() to print all elements of lists \n",
    "print (\"All values in mentioned chain are : \",end=\"\") \n",
    "print (list(itertools.chain.from_iterable(li4))) \n",
    "\n",
    "# using compress() selectively print data values \n",
    "print (\"The compressed values in string are : \",end=\"\") \n",
    "print (list(itertools.compress('GEEKSFORGEEKS',[1,0,0,0,0,1,0,0,1,0,0,0,0]))) \n"
   ]
  },
  {
   "cell_type": "code",
   "execution_count": null,
   "metadata": {},
   "outputs": [],
   "source": [
    "# Python code to demonstrate the working of \n",
    "# dropwhile() and filterfalse() \n",
    "\n",
    "# importing \"itertools\" for iterator operations \n",
    "import itertools \n",
    "\n",
    "# initializing list \n",
    "li = [2, 4, 5, 7, 8] \n",
    "\n",
    "# using dropwhile() to start displaying after condition is false \n",
    "print (\"The values after condition returns false : \",end=\"\") \n",
    "print (list(itertools.dropwhile(lambda x : x%2==0,li))) \n",
    "\n",
    "# using filterfalse() to print false values \n",
    "print (\"The values that return false to function are : \",end=\"\") \n",
    "print (list(itertools.filterfalse(lambda x : x%2==0,li))) \n"
   ]
  },
  {
   "cell_type": "code",
   "execution_count": null,
   "metadata": {},
   "outputs": [],
   "source": [
    "# Python code to demonstrate the working of \n",
    "# islice() and starmap() \n",
    "\n",
    "# importing \"itertools\" for iterator operations \n",
    "import itertools \n",
    "\n",
    "# initializing list \n",
    "li = [2, 4, 5, 7, 8, 10, 20] \n",
    "\n",
    "# initializing tuple list \n",
    "li1 = [ (1, 10, 5), (8, 4, 1), (5, 4, 9), (11, 10 , 1) ] \n",
    "\n",
    "\n",
    "# using islice() to slice the list acc. to need \n",
    "# starts printing from 2nd index till 6th skipping 2 \n",
    "print (\"The sliced list values are : \",end=\"\") \n",
    "print (list(itertools.islice(li,1, 6, 2))) \n",
    "\n",
    "# using starmap() for selection value acc. to function \n",
    "# selects min of all tuple values \n",
    "print (\"The values acc. to function are : \",end=\"\") \n",
    "print (list(itertools.starmap(min,li1))) \n"
   ]
  },
  {
   "cell_type": "code",
   "execution_count": null,
   "metadata": {},
   "outputs": [],
   "source": [
    "# Python code to demonstrate the working of \n",
    "# takewhile() and tee() \n",
    "\n",
    "# importing \"itertools\" for iterator operations \n",
    "import itertools \n",
    "\n",
    "# initializing list \n",
    "li = [2, 4, 6, 7, 8, 10, 20] \n",
    "\n",
    "# storing list in iterator \n",
    "iti = iter(li) \n",
    "\n",
    "# using takewhile() to print values till condition is false. \n",
    "print (\"The list values till 1st false value are : \",end=\"\") \n",
    "print (list(itertools.takewhile(lambda x : x%2==0,li ))) \n",
    "\n",
    "# using tee() to make a list of iterators \n",
    "# makes list of 3 iterators having same values. \n",
    "it = itertools.tee(iti, 3) \n",
    "\n",
    "# printing the values of iterators \n",
    "print (\"The iterators are : \") \n",
    "for i in range (0,3): \n",
    "\tprint (list(it[i])) \n"
   ]
  },
  {
   "cell_type": "code",
   "execution_count": null,
   "metadata": {},
   "outputs": [],
   "source": [
    "# Python code to demonstrate the working of \n",
    "# zip_longest() \n",
    "\n",
    "# importing \"itertools\" for iterator operations \n",
    "import itertools \n",
    "\n",
    "# using zip_longest() to combine two iterables. \n",
    "print (\"The combined values of iterables is : \") \n",
    "print (*(itertools.zip_longest('GesoGes','ekfrek',fillvalue='_' ))) \n"
   ]
  },
  {
   "cell_type": "code",
   "execution_count": null,
   "metadata": {},
   "outputs": [],
   "source": [
    "# Python code to demonstrate the working of \n",
    "# product() and permutations() \n",
    "\n",
    "# importing \"itertools\" for iterator operations \n",
    "import itertools \n",
    "\n",
    "# using product() to print the cartesian product \n",
    "print (\"The cartesian product of the containers is : \") \n",
    "print (list(itertools.product('AB','12'))) \n",
    "\n",
    "# using permutations to compute all possible permutations \n",
    "print (\"All the permutations of the given container is : \") \n",
    "print (list(itertools.permutations('GfG',2))) \n"
   ]
  },
  {
   "cell_type": "code",
   "execution_count": null,
   "metadata": {},
   "outputs": [],
   "source": [
    "# Python code to demonstrate the working of \n",
    "# combination() and combination_with_replacement() \n",
    "\n",
    "# importing \"itertools\" for iterator operations \n",
    "import itertools \n",
    "\n",
    "# using combinations() to print every combination \n",
    "# (without replacement) \n",
    "print (\"All the combination of container in sorted order(without replacement) is : \") \n",
    "print (list(itertools.combinations('1234',2))) \n",
    "\n",
    "# using combinations_with_replacement() to print every combination \n",
    "# with replacement \n",
    "print (\"All the combination of container in sorted order(with replacement) is : \") \n",
    "print (list(itertools.combinations_with_replacement('GfG',2))) \n"
   ]
  },
  {
   "cell_type": "code",
   "execution_count": null,
   "metadata": {},
   "outputs": [],
   "source": [
    "# Python code to demonstrate the working of \n",
    "# repeat() \n",
    "\n",
    "# importing \"itertools\" for iterator operations \n",
    "import itertools \n",
    "\n",
    "# using repeat() to repeatedly print number \n",
    "print (\"Printing the numbers repeatedly : \") \n",
    "print (list(itertools.repeat(25,4))) \n"
   ]
  },
  {
   "cell_type": "code",
   "execution_count": null,
   "metadata": {},
   "outputs": [],
   "source": [
    "    ##########   ###########   Partial functions in Python    ############    #############    ###########\n",
    "    \n",
    " =>  Partial functions allow us to fix a certain number of arguments of a function and generate a new function.\n",
    "\n",
    " =>  This partial function is imported from the functool module.\n",
    "    \n",
    " =>  After making a normal function, We uses Partial function.\n",
    " \n",
    " =>  We passes normal function and its all arguments from this Partial Function.\n",
    "\n",
    " =>  Arguments of Normal function is of 2 types.\n",
    "      \n",
    "        * Keyword Arguments ->  Using this, We have to write them in the proper order A/C to arguments\n",
    "                                   in Normal function, otherwise, we will get different result.\n",
    "                                  >>>  partial_fun = partial(f, 3, 1, 4, 5)\n",
    "            \n",
    "        * Positional Arguments ->  Using this, it is not necessary to follow the proper order.\n",
    "                                  >>>  partial_fun = partial(f, a=3, b=1, c=4, x=5)\n",
    "            \n",
    "            \n",
    " =>  If We ae not passing arguments of Normal Function in above step, then we can pass these all required arguments \n",
    "      from the Partial function in next step during its call.\n",
    "    \n",
    "       >>> partial_fun = (3, 1, 4, 5)\n",
    "        \n",
    " =>  If we have missed some arguments to pass in above step, then we can pass the remaining argument from next step.\n",
    "       i.e. During the call of partial function in any types (keyword or positional).\n",
    "        \n",
    " =>  Partial functions can be used to derive specialized functions from general functions and therefore help us\n",
    "       to reuse our code."
   ]
  },
  {
   "cell_type": "code",
   "execution_count": 16,
   "metadata": {},
   "outputs": [
    {
     "name": "stdout",
     "output_type": "stream",
     "text": [
      "312\n"
     ]
    }
   ],
   "source": [
    "from functools import *\n",
    "\n",
    "# A normal function \n",
    "def add(a, b, c): \n",
    "\treturn 100 * a + 10 * b + c \n",
    "\n",
    "# A partial function with b = 1 and c = 2 \n",
    "add_part = partial(add, c = 2, b = 1) \n",
    "\n",
    "# Calling partial function \n",
    "print(add_part(3)) \n"
   ]
  },
  {
   "cell_type": "code",
   "execution_count": null,
   "metadata": {},
   "outputs": [],
   "source": [
    "    ###########   ############   First Class functions in Python    #############    #############\n",
    "    \n",
    " =>  First class objects in a language are handled uniformly throughout. \n",
    "\n",
    " =>  They may be stored in data structures, passed as arguments, or used in control structures. \n",
    "    \n",
    " =>  A programming language is said to support first-class functions if it treats functions as first-class objects.\n",
    "\n",
    " =>  Python supports the concept of First Class functions.\n",
    "    \n",
    "    ##########   PROPERTIES OF FIRST cLASS FUNCTIONS   ############\n",
    "    \n",
    "    * A function is an instance of the Object type.\n",
    "    \n",
    "    * You can store the function in a variable.\n",
    "\n",
    "    * You can pass the function as a parameter to another function.\n",
    "\n",
    "    * You can return the function from a function.\n",
    "\n",
    "    * You can store them in data structures such as hash tables, lists, …"
   ]
  },
  {
   "cell_type": "code",
   "execution_count": null,
   "metadata": {},
   "outputs": [],
   "source": [
    "         *   Functions are objects\n",
    "    \n",
    " =>  Python functions are first class objects. \n",
    " \n",
    " =>  In the example below, we are assigning function to a variable. \n",
    "\n",
    " =>  This assignment doesn’t call the function.\n",
    "    \n",
    " =>  It takes the function object referenced by shout and creates a second name pointing to it, yell.\n",
    "\n"
   ]
  },
  {
   "cell_type": "code",
   "execution_count": 7,
   "metadata": {},
   "outputs": [
    {
     "ename": "SyntaxError",
     "evalue": "invalid syntax (<ipython-input-7-1958437eda2a>, line 6)",
     "output_type": "error",
     "traceback": [
      "\u001b[0;36m  File \u001b[0;32m\"<ipython-input-7-1958437eda2a>\"\u001b[0;36m, line \u001b[0;32m6\u001b[0m\n\u001b[0;31m    print shout('Hello')\u001b[0m\n\u001b[0m              ^\u001b[0m\n\u001b[0;31mSyntaxError\u001b[0m\u001b[0;31m:\u001b[0m invalid syntax\n"
     ]
    }
   ],
   "source": [
    "# Python program to illustrate functions \n",
    "# can be treated as objects \n",
    "def shout(text): \n",
    "\treturn text.upper() \n",
    "\n",
    "print shout('Hello') \n",
    "\n",
    "yell = shout \n",
    "\n",
    "print yell('Hello') \n"
   ]
  },
  {
   "cell_type": "code",
   "execution_count": null,
   "metadata": {},
   "outputs": [],
   "source": [
    "         *  Functions can be passed as arguments to other functions\n",
    " =>  functions are objects we can pass them as arguments to other functions. \n",
    "\n",
    " =>  Functions that can accept other functions as arguments are also called higher-order functions. \n",
    "    \n",
    " =>  In the example below, we have created a function greet which takes a function as an argument.\n",
    "\n"
   ]
  },
  {
   "cell_type": "code",
   "execution_count": 5,
   "metadata": {},
   "outputs": [
    {
     "name": "stdout",
     "output_type": "stream",
     "text": [
      "HI, I AM CREATED BY A FUNCTION PASSED AS AN ARGUMENT.\n",
      "hi, i am created by a function passed as an argument.\n"
     ]
    }
   ],
   "source": [
    "# Python program to illustrate functions \n",
    "# can be passed as arguments to other functions \n",
    "def shout(text): \n",
    "\treturn text.upper() \n",
    "\n",
    "def whisper(text): \n",
    "\treturn text.lower() \n",
    "\n",
    "def greet(func): \n",
    "\t# storing the function in a variable \n",
    "\tgreeting = func(\"Hi, I am created by a function passed as an argument.\") \n",
    "\tprint (greeting) \n",
    "\n",
    "greet(shout) \n",
    "greet(whisper) \n"
   ]
  },
  {
   "cell_type": "code",
   "execution_count": null,
   "metadata": {},
   "outputs": [],
   "source": [
    "                *     Functions can return another function\n",
    "\n",
    " =>  Because functions are objects we can return a function from another function. \n",
    "\n",
    " =>  In the below example, the create_adder function returns adder function."
   ]
  },
  {
   "cell_type": "code",
   "execution_count": 6,
   "metadata": {},
   "outputs": [
    {
     "ename": "SyntaxError",
     "evalue": "invalid syntax (<ipython-input-6-49d69a9fbfcc>, line 12)",
     "output_type": "error",
     "traceback": [
      "\u001b[0;36m  File \u001b[0;32m\"<ipython-input-6-49d69a9fbfcc>\"\u001b[0;36m, line \u001b[0;32m12\u001b[0m\n\u001b[0;31m    print add_15(10)\u001b[0m\n\u001b[0m               ^\u001b[0m\n\u001b[0;31mSyntaxError\u001b[0m\u001b[0;31m:\u001b[0m invalid syntax\n"
     ]
    }
   ],
   "source": [
    "# Python program to illustrate functions \n",
    "# Functions can return another function \n",
    "\n",
    "def create_adder(x): \n",
    "\tdef adder(y): \n",
    "\t\treturn x+y \n",
    "\n",
    "\treturn adder \n",
    "\n",
    "add_15 = create_adder(15) \n",
    "\n",
    "print add_15(10) \n"
   ]
  },
  {
   "cell_type": "code",
   "execution_count": null,
   "metadata": {},
   "outputs": [],
   "source": []
  }
 ],
 "metadata": {
  "kernelspec": {
   "display_name": "Python 3",
   "language": "python",
   "name": "python3"
  },
  "language_info": {
   "codemirror_mode": {
    "name": "ipython",
    "version": 3
   },
   "file_extension": ".py",
   "mimetype": "text/x-python",
   "name": "python",
   "nbconvert_exporter": "python",
   "pygments_lexer": "ipython3",
   "version": "3.7.7"
  }
 },
 "nbformat": 4,
 "nbformat_minor": 4
}
