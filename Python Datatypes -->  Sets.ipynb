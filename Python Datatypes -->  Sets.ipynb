{
 "cells": [
  {
   "cell_type": "code",
   "execution_count": null,
   "metadata": {},
   "outputs": [],
   "source": [
    "##########   ###########   #####   SETS   #####   ########   ############   ################    #############"
   ]
  },
  {
   "cell_type": "code",
   "execution_count": null,
   "metadata": {},
   "outputs": [],
   "source": [
    "   ##########   ###########   #####   SETS   #####   ########   ############   ################    #############\n",
    "    \n",
    " =>  Set is an unordered collection of data type that is iterable, mutable and has no duplicate elements. \n",
    "      The order of elements in a set is undefined though it may consist of various elements.\n",
    "        \n",
    " =>  Compare to Lists, Sets has a highly optimized method for checking an element's availability in it.\n"
   ]
  },
  {
   "cell_type": "code",
   "execution_count": null,
   "metadata": {},
   "outputs": [],
   "source": [
    "##########   ###########   #####  Creation of SETS   #####   ########   ############   ################    #############\n",
    "\n",
    " =>  Sets can be created by using the built-in set() function with an iterable object or \n",
    "         a sequence by placing the sequence inside curly braces, separated by ‘comma’.\n",
    "        \n",
    " =>  A set cannot have mutable elements.\n",
    "    \n",
    "        \n",
    " =>  set(iterable) ->  This return a set by passing an iterable( list, set, tuple) through it.\n",
    "                        This unwraps the iterable elements and return a set.\n",
    " \n",
    "            >>> set('string') ->   {'g', 'i', 'n', 'r', 's', 't'}\n",
    "        \n",
    " \n",
    "=>  {iterable} -> This also create a set from passing iterable( tuples, strings, floats, integers only)\n",
    "\n",
    "            >>> {'string'}    ->   {'string'}  \n",
    "\n",
    " =>  Either set() and {} both creates an empty set if no any iterable is passing through them."
   ]
  },
  {
   "cell_type": "code",
   "execution_count": null,
   "metadata": {},
   "outputs": [],
   "source": [
    " ##########   ###########   #####   SETS   #####   ########   ############   ################    #############\n",
    "\n",
    " =>  A set contains only unique elements but at the time of set creation, multiple duplicate values \n",
    "         can also be passed. Set will take only single occurence of multiple duplicate values.\n",
    " \n",
    " =>  Order of elements in a set is undefined and is unchangeable. \n",
    "\n",
    " =>  Type of elements in a set need not be the same, various mixed up data type values can also be passed to the \n",
    "        set. Like as strings, integers, lists, tuples etc."
   ]
  },
  {
   "cell_type": "code",
   "execution_count": null,
   "metadata": {},
   "outputs": [],
   "source": [
    " ##########   ###########   #####  Accessing items in a set   #####   ########   ############   #############    \n",
    " \n",
    " =>  Set items cannot be accessed by referring to an index, since sets are unordered the items has no index. \n",
    "   \n",
    " =>  'for' loop is used to iterate through the set elements and extract them one by one.\n",
    "    \n",
    "      >>> for i in set:\n",
    "              print(i)\n",
    "        \n",
    " =>  in keyword is used to check if a particular element is available or not in the set.\n",
    "\n",
    "      >>> \"item\" in set\n"
   ]
  },
  {
   "cell_type": "code",
   "execution_count": null,
   "metadata": {},
   "outputs": [],
   "source": [
    " ##########   ###########   #####   SETS  Built-in Methods  ##########   ########   ############   ################  "
   ]
  },
  {
   "cell_type": "markdown",
   "metadata": {},
   "source": [
    "<img src=\"images/set-methods.png\">"
   ]
  },
  {
   "cell_type": "code",
   "execution_count": null,
   "metadata": {},
   "outputs": [],
   "source": [
    " ##########   ###########   #####  Adding Elements to a set   #####   ########   ############   ############    \n",
    " \n",
    " =>  add() -> This is used to add an element(integer, string, float, tuple) to the set.\n",
    "                If that element is already there, it does nothing.\n",
    "            \n",
    "            syntax --> set.add(value)    \n",
    "            \n",
    " =>  Lists, sets, dictionaries cannot be added to a set as an element because it is not hashable.\n",
    " \n",
    " =>  Tuples can be added to a set as an element by using add method or loops.\n",
    "    \n",
    " =>  for loop is used to add multiple elements to a set at a time."
   ]
  },
  {
   "cell_type": "code",
   "execution_count": null,
   "metadata": {},
   "outputs": [],
   "source": [
    "  ##########   ###########   #####  Updating Elements in a set #####   ########   ############   ############  \n",
    "    \n",
    " \n",
    " =>  update() is used to update with the union of itself and other iterables( List, set, tuple etc.) .\n",
    "    \n",
    " =>  This method unwraps the container and then make a union of elements of passing container and set, \n",
    "        then adds to set.\n",
    "\n",
    " =>  After updating, the elements of iterables become native elements of set."
   ]
  },
  {
   "cell_type": "code",
   "execution_count": null,
   "metadata": {},
   "outputs": [],
   "source": [
    " ##########   ###########   #####  Removing elements in a set  #####   ########   ############   ############    \n",
    "\n",
    " =>  Remove() method is used to remove the elemnts from a set. if element not exist, it raises a KeyError.\n",
    "    \n",
    "         >>> set1.remove(1)\n",
    " \n",
    " \n",
    " =>  Discard() is used to remove the elements from the set without getting an error, even if elements not exists.\n",
    "                             \n",
    "     >>> set1.discard(1)\n",
    " \n",
    " =>  for loop is used for remeoving multiple elemnts from a set at a time.\n"
   ]
  },
  {
   "cell_type": "code",
   "execution_count": null,
   "metadata": {},
   "outputs": [],
   "source": [
    " ##########   ###########   #####   Pop() method over set  ########  ############   ################  ########\n",
    "\n",
    " =>  Pop() is used to remove and return an arbitrary set element from Left Hand Side and not depends upon the order \n",
    "           of sets.. . This does not takes any arguments.    \n",
    " \n",
    "        syntax -->  set1.pop()"
   ]
  },
  {
   "cell_type": "code",
   "execution_count": null,
   "metadata": {},
   "outputs": [],
   "source": [
    " ##########   ###########   #####   Clear() Method over Sets  ########   ########   ############   #############   \n",
    "\n",
    " =>  clear() is used to clear all the items of a set and make that set an Empty set.\n",
    "      \n",
    "      syntax -->  set1.clear()"
   ]
  },
  {
   "cell_type": "code",
   "execution_count": null,
   "metadata": {},
   "outputs": [],
   "source": [
    " ##########   ###########   #####  Some operations over Sets   #####   ########   ############   ##############    \n",
    " \n",
    " \n",
    " =>  union() is used to return the union of both sets as a new set.\n",
    "    \n",
    "         syntax -->  setA.union(setB) -->  { items of set1 and set2 }\n",
    "    \n",
    " \n",
    " =>  difference() returns the difference of two sets as a new set and removes all the elements \n",
    "        of setB from setA and returns setA with left items.\n",
    "   \n",
    "         syntax -->  setA.difference(setB)\n",
    "____________________________________________________________________________________________________________________   \n",
    "\n",
    " \n",
    " =>  difference_update() is used to remove all the elements from a set passing as arguement and returns\n",
    "                          setA with left items.\n",
    "  \n",
    "         syntax -->  set1.difference_update(set2)\n",
    "        \n",
    " \n",
    " =>  discard() is used to remove an element of set and return 'None' type. If element not exists, it does nothing.\n",
    " \n",
    "         syntax -->  set.discard('item')\n",
    "____________________________________________________________________________________________________________________      \n",
    " \n",
    "\n",
    " =>  intersection() is used to return an intersection of items of two sets as a new set.\n",
    " \n",
    "         syntax -->  set1.intersection(set2)\n",
    "    \n",
    " \n",
    " =>  intersection_update() is used to Updates the set with the intersection of itself and another.\n",
    "     \n",
    "         syntax -->  set1.intersection_update(set2)\n",
    "____________________________________________________________________________________________________________________   \n",
    " \n",
    " \n",
    " =>  set.isdisjoint() returns True, if two sets have a null intersection.\n",
    " \n",
    " =>  set.issubset() returns true, if another set contains this set.\n",
    " \n",
    " =>  set.issuperset() returns True, if this set contains another set.\n",
    " \n",
    " =>  set.symmetric_difference() returns the symmetric difference of two sets as a new set.\n",
    " \n",
    " =>  set.symmetric_difference_update() Updates a set with the symmetric difference of itself and another.\n",
    " "
   ]
  },
  {
   "cell_type": "code",
   "execution_count": null,
   "metadata": {},
   "outputs": [],
   "source": [
    " ##########   ###########   #####  Frozen Sets  #####  ########   ############   ###########  ###########\n",
    "\n",
    " \n",
    " =>  Frozen sets in Python are immutable objects that only support methods and operators \n",
    "       that produce a result without affecting the frozen sets to which they are applied. \n",
    "    \n",
    " =>  While elements of a set can be modified at any time, elements of the frozen set remain the same after creation.\n",
    "\n",
    " =>  frozenset(iterable) ->  This is used to create a frozenset object. If no arguments are passing, \n",
    "                               it returns an empty frozenset."
   ]
  },
  {
   "cell_type": "markdown",
   "metadata": {},
   "source": [
    "[ For Python Documentation over Sets, CLICK HERE ](https://docs.python.org/3/tutorial/datastructures.html#sets)"
   ]
  }
 ],
 "metadata": {
  "kernelspec": {
   "display_name": "Python 3",
   "language": "python",
   "name": "python3"
  },
  "language_info": {
   "codemirror_mode": {
    "name": "ipython",
    "version": 3
   },
   "file_extension": ".py",
   "mimetype": "text/x-python",
   "name": "python",
   "nbconvert_exporter": "python",
   "pygments_lexer": "ipython3",
   "version": "3.7.7"
  }
 },
 "nbformat": 4,
 "nbformat_minor": 4
}
