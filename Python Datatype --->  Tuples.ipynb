{
 "cells": [
  {
   "cell_type": "code",
   "execution_count": null,
   "metadata": {},
   "outputs": [],
   "source": [
    " ########    #######    #######     Tuples     ########    ###########     ##########     ###########"
   ]
  },
  {
   "cell_type": "code",
   "execution_count": null,
   "metadata": {},
   "outputs": [],
   "source": [
    "           #######    #######   Tuples    #######    ########   ########\n",
    "\n",
    " =>  Tuple is a collection of Python objects similar to lists.\n",
    " \n",
    " =>  some ways to crete a tuple.\n",
    "    \n",
    "         *  Enclosing comma-separated values in parenthese ().    \n",
    "    \n",
    "         *  Using tuple(iterable) method\n",
    "  \n",
    " =>  Tuples can be created with a single element and a trailing comma enclosing in parenthese ().\n",
    "        \n",
    "         >>> ('a',) or (1,)\n",
    "        \n",
    " =>  Tuples can be created from a sequence without using parenthese and this is termed as \n",
    "        \n",
    " =>  Tuples are heterogeneous type container. it contains lists, strings, integers, sets, floats, etc. . \n",
    "\n",
    " =>  '+' operator is used to concatenate 2 tuples.\n",
    "    \n",
    " =>  '*' operator is used to replicate a tuple and it returns a new tuple having elements\n",
    "           of old tuple repeated upto 'n' times.\n",
    "    "
   ]
  },
  {
   "cell_type": "markdown",
   "metadata": {},
   "source": [
    "<img src=\"images/Tuple-Concatenation.jpg\">"
   ]
  },
  {
   "cell_type": "code",
   "execution_count": null,
   "metadata": {},
   "outputs": [],
   "source": [
    "       #########    ######    Accessing Tuple Items   #######    ############\n",
    "    \n",
    " =>  Tuples are immutable, and usually, they contain a sequence of heterogeneous elements that are accessed \n",
    "        via unpacking or indexing.\n",
    "\n",
    " =>  Lists are mutable, and their elements are usually homogeneous and are accessed by iterating over the list.\n",
    "\n",
    " =>  NOTE : In unpacking of tuple, number of variables on left hand side should be equal to number of values\n",
    "              in a given tuple.\n",
    "            \n",
    " =>  Accessin items of Tuple by Indexing\n",
    "  \n",
    "    >>> Tuple1 = ('Geeks')\n",
    "\n",
    "    >>> Tuple1[i]  --->>>  This will access the 'i'th  character of Tuple1.\n",
    "    >>> Tuple[-i]  --->>>  This will access the 'i'th  character of Tuple1 in Reversed direction.\n",
    "    \n",
    " =>  Accessing Items of a Tuple by Tuple's Unpacking.\n",
    "\n",
    "    >>> Tuple1 = (\"Geeks\", \"For\", \"Geeks\")\n",
    "    \n",
    "    >>> a, b, c = Tuple1         #  This is Tuples Unpacking.\n",
    "    "
   ]
  },
  {
   "cell_type": "code",
   "execution_count": null,
   "metadata": {},
   "outputs": [],
   "source": [
    "  #######     ##########    ########  Slicing of Tuple    ##########   ############    ###########      ##########\n",
    "    \n",
    " =>  Slicing of a Tuple is done to fetch a specific range or slice of sub-elements from a Tuple.  \n"
   ]
  },
  {
   "cell_type": "markdown",
   "metadata": {},
   "source": [
    "<img src=\"images/Tuple-slicing.jpg\">\n",
    "          \n",
    "          "
   ]
  },
  {
   "cell_type": "code",
   "execution_count": null,
   "metadata": {},
   "outputs": [],
   "source": [
    "     #############    ############    Tuple - Deletion     ############   ###########    ##############\n",
    "    \n",
    " =>  Tuples are immutable and Updation & Deletion of items are not allowed.\n",
    "\n",
    " =>  Entire Tuple can be deleted by the using 'del' keyword.\n",
    "    \n",
    " =>  Note -> Printing of Tuple after deletion results to an Error.\n",
    "\n",
    "     >>> del Tuple    ---->>   This deletes the Tuple."
   ]
  },
  {
   "cell_type": "markdown",
   "metadata": {},
   "source": [
    "<img  src=\"images/tuple-methods.png\">"
   ]
  },
  {
   "cell_type": "code",
   "execution_count": null,
   "metadata": {},
   "outputs": [],
   "source": [
    "     #######   #########  Tuple's Built-in Methods  #######    ##########     \n",
    "    \n",
    " =>  tuple(iterable) -->  This Returns an immutable sequence known as 'Tuple'.\n",
    "                \n",
    "            *  If no argument is given, the constructor returns an empty tuple.\n",
    "       \n",
    "            *  If iterable is specified the tuple is initialized from iterable's items.\n",
    "        \n",
    "            *  If the argument is a tuple, the return value is the same object.\n",
    "        \n",
    " \n",
    " =>  type(iterable) -->  This returns the type of the object or iterable passing as argument.\n",
    "                                    \n",
    " =>  len(iterable) -->   This returns the size of object or iterable passing as the argument.\n",
    "                                    \n",
    " =>  max(iterable) -->     This returns the Maximum element of the container or object.\n",
    "                              In the case of string, This returns the alphabetically maximum item.\n",
    "\n",
    " =>  min(iterable) -->     This returns the minimum element of container or strings.\n",
    "\n",
    " =>  sum(iterable) -->     This returns the sum of all elements of a container. \n",
    "                            \n",
    "       NOTE -->  sum() will work on Containers numerical values only.\n",
    "        \n",
    " =>  sorted(iterable, key=None, reverse=False) -->  This return a new container containing all items from \n",
    "                                                      the passing iterable(container).\n",
    "         \n",
    "         * key is used to customize the sort order.\n",
    "         \n",
    "         * reverse order is used to give direction of sorting.\n",
    "             \n",
    "             reverse=False (Default value)  --> This sort items in Ascending order.\n",
    "             reverse=True -->  This sort items in Descending order.\n",
    "            \n",
    " \n",
    " =>  enumerate(iterable, start=0)  -->  This is used to return the enumerate object.\n",
    "\n",
    " =>  all(iterable)  -->  This return True, if all items of a container are True.\n",
    " \n",
    " =>  any(iterable)  -->  This return True, if any items of a container is True.\n",
    "\n",
    " =>  count()  -->  This is used to return the no. of occurrences of a item in tuple.\n",
    "\n",
    "           >>> tuple.count(item)\n",
    "    \n",
    " =>  index()   -->  this is used to return the 1st index of a item in tuple.\n",
    "\n",
    "           >>> tuple.index(item)"
   ]
  },
  {
   "cell_type": "markdown",
   "metadata": {},
   "source": [
    "[For Python Documentation Over Tuples, CLICK HERE](https://docs.python.org/3/tutorial/datastructures.html#tuples-and-sequences)"
   ]
  },
  {
   "cell_type": "code",
   "execution_count": null,
   "metadata": {},
   "outputs": [],
   "source": []
  }
 ],
 "metadata": {
  "kernelspec": {
   "display_name": "Python 3",
   "language": "python",
   "name": "python3"
  },
  "language_info": {
   "codemirror_mode": {
    "name": "ipython",
    "version": 3
   },
   "file_extension": ".py",
   "mimetype": "text/x-python",
   "name": "python",
   "nbconvert_exporter": "python",
   "pygments_lexer": "ipython3",
   "version": "3.7.7"
  }
 },
 "nbformat": 4,
 "nbformat_minor": 4
}
