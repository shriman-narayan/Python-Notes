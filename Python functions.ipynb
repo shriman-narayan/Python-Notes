{
 "cells": [
  {
   "cell_type": "code",
   "execution_count": null,
   "metadata": {},
   "outputs": [],
   "source": [
    "       #############    ############   Python functions    #############     #############\n",
    "    \n",
    " =>  A function is a set of statements that take inputs, do some specific computation and produces output. \n",
    "\n",
    " =>  When we have to write and use same code again and again, functions come into picture.\n",
    " \n",
    " =>  Python provides built-in functions like print(), input() etc. \n",
    "    \n",
    " =>  We can also create our own functions which is known as User-defined functions.\n"
   ]
  },
  {
   "cell_type": "code",
   "execution_count": null,
   "metadata": {},
   "outputs": [],
   "source": [
    "    ###########     ###########    Creation of Functions    #############     ##############\n",
    "    \n",
    " =>  def keyword is used to define a function.\n",
    "\n",
    "       >>> def test():\n",
    "              # Body of the function\n",
    "              # This defines the purpose of function "
   ]
  },
  {
   "cell_type": "code",
   "execution_count": null,
   "metadata": {},
   "outputs": [],
   "source": [
    "       ############    ############   Creating Empty Functions    #############    ############  \n",
    "    \n",
    " =>  pass keyword is used to create an Empty function and it always return a NoneType.\n",
    "      \n",
    "        >>> def test():\n",
    "               pass "
   ]
  },
  {
   "cell_type": "code",
   "execution_count": null,
   "metadata": {},
   "outputs": [],
   "source": [
    "  ##########    #######    Creating functions with print() statements as body    #############    ##########\n",
    "\n",
    " =>  We uses print() statement in the body of function.\n",
    "\n",
    " =>  print() statement always return a NoneType.\n",
    "\n",
    " =>  Calling an empty function or a print() statement always gives a NoneType.\n",
    "\n",
    "\n",
    "       >>> def test():\n",
    "               print (\"Hello world! This is a function.\")\n",
    "    "
   ]
  },
  {
   "cell_type": "code",
   "execution_count": null,
   "metadata": {},
   "outputs": [],
   "source": [
    "   ############    ###########    NoneType in Python    ###########     #############\n",
    "    \n",
    " =>  NoneType values are just for displaying the data.\n",
    "\n",
    " =>  We cant do any type of primitive operation over them.\n",
    "    \n",
    " =>  By Typecasting the NoneType data into integers, floats, strings, we can perform primitive operations\n",
    "        over them."
   ]
  },
  {
   "cell_type": "code",
   "execution_count": null,
   "metadata": {},
   "outputs": [],
   "source": [
    "     #########    ###########    Functions with return statement   ###########     ###########\n",
    "    \n",
    " =>  Functions using return statement always gives a data type (integers, floats, strings, lists, tuples, \n",
    "                                                                                    sets, dictionaries.)\n",
    "\n",
    " =>  We can do any type of primitive operation on top of these returned datatypes.\n",
    "    \n",
    " =>  print() statements can also be used before the return statement.\n",
    "    \n",
    "    \n",
    "     >>> def test(a,b):\n",
    "            print ('Hello world!')\n",
    "            return a + b"
   ]
  },
  {
   "cell_type": "code",
   "execution_count": null,
   "metadata": {},
   "outputs": [],
   "source": [
    " =>  In Python, every variable name is a reference. \n",
    "    \n",
    " =>  When we pass a variable to a function, a new reference to the object is created.\n",
    "\n",
    " =>  When we pass a reference and change the received reference to something else, \n",
    "       the connection between passed and received parameter is broken. \n",
    "    \n",
    " =>  If we try to modify the values of any variable passing through these user-defined functions,\n",
    "        the reference link gets broken and this prints the old value of variable.  Look the shell 1.\n",
    "    \n",
    " =>  We can modify an element of a sequence by using functions. Look below the shell 2 ."
   ]
  },
  {
   "cell_type": "markdown",
   "metadata": {},
   "source": [
    "<img src = \"images/breakref.png\">"
   ]
  },
  {
   "cell_type": "code",
   "execution_count": null,
   "metadata": {},
   "outputs": [],
   "source": [
    "    ##########    ##########  Default Arguments in Python   #############    ##############\n",
    "    \n",
    " =>  A default argument is a parameter that assumes a default value if a value is not provided in the \n",
    "       function call for that argument.\n",
    "    \n",
    " =>  Any number of arguments in a function can have a default value. But once we have a default argument,\n",
    "        all the arguments to its right must also have default values.\n",
    "    \n",
    " =>  Default arguments are always placed in right side of Non-default arguments.\n",
    "\n",
    "       e.g.  def test(a, b, c, d = 5, e, 6, f = 7):\n",
    "                    return (a + b + c+ d + e + f)\n",
    "            "
   ]
  },
  {
   "cell_type": "code",
   "execution_count": null,
   "metadata": {},
   "outputs": [],
   "source": [
    "       ############    #############   Keyword arguments   ############    #############   ############\n",
    "    \n",
    " =>  The idea is to allow caller to specify argument name with values so that caller does not need to \n",
    "       remember order of parameters."
   ]
  },
  {
   "cell_type": "code",
   "execution_count": null,
   "metadata": {},
   "outputs": [],
   "source": [
    " # Python program to demonstrate Keyword Arguments \n",
    "\n",
    "def student(firstname, lastname):\n",
    "    print(firstname, lastname) \n",
    "\n",
    "    \n",
    "# Keyword arguments\n",
    "student(firstname ='Geeks', lastname ='Practice')\t \n",
    "student(lastname ='Practice', firstname ='Geeks') \n"
   ]
  },
  {
   "cell_type": "code",
   "execution_count": null,
   "metadata": {},
   "outputs": [],
   "source": [
    "      #############    ###########    Variable - Length Argument    ############    ###########\n",
    "    \n",
    " =>  We can have both normal and keyword variable number of arguments. \n",
    "\n",
    " =>  *arg ->  This uses a for loop to iterate in a container argv with variable arg inside a function.\n",
    "    \n",
    " =>  **kwargs ->  This uses a for loop to iterate to  variable number of key-value pairs in a dictionary."
   ]
  },
  {
   "cell_type": "code",
   "execution_count": null,
   "metadata": {},
   "outputs": [],
   "source": [
    "# Python program to illustrate  *args for variable number of arguments \n",
    "\n",
    "def myFun(*argv): \n",
    "    for arg in argv: \n",
    "        print (arg, end = \" \") \n",
    "\n",
    "myFun('Hello', 'Welcome', 'to', 'GeeksforGeeks') \n"
   ]
  },
  {
   "cell_type": "code",
   "execution_count": null,
   "metadata": {},
   "outputs": [],
   "source": [
    "# Python program to illustrate \n",
    "# *kwargs for variable number of keyword arguments \n",
    "\n",
    "def myFun(**kwargs): \n",
    "    for key, value in kwargs.items(): \n",
    "         print (\"%s == %s\" %(key, value), end = \"    \") \n",
    "   \n",
    "\n",
    "# Driver code \n",
    "myFun(first ='Geeks', mid ='for', last='Geeks')\t \n"
   ]
  },
  {
   "cell_type": "code",
   "execution_count": null,
   "metadata": {},
   "outputs": [],
   "source": [
    "       ##############   ############   Anonymous functions    ###########   ##############\n",
    "    \n",
    " =>  In Python, Anonymous function means that a function is without a name. \n",
    " \n",
    " =>  lambda keyword is used to create anonymous functions.\n",
    "\n",
    "    \n",
    "       >>>  lambda arguments: logics or body of function\n",
    "            \n",
    "    \n",
    " =>  This function can have any number of arguments but only one expression, which is evaluated and returned.\n",
    "\n",
    " =>  lambda functions can be stored inside a variable and can be used as many places.\n",
    "    \n",
    "      >>> var = lambda x: x ** 2           #  storing lambda inside 'var'\n",
    "                   \n",
    "    \n",
    " =>  Normal def functions cannot be stored inside a variable. We can store only the output of function.\n",
    "\n"
   ]
  },
  {
   "cell_type": "code",
   "execution_count": null,
   "metadata": {},
   "outputs": [],
   "source": [
    "#     ###########    ##########   Normal functions vs Anonymous functions   #############    #############\n",
    "\n",
    "       #############      ############    Without using Lambda    ##############    ##############\n",
    "    \n",
    " =>  While using def, we needed to define a function with a name and needed to pass a value to it. \n",
    "\n",
    " =>  After execution, we also needed to return the result from where the function was called \n",
    "        using the return keyword.\n",
    "\n",
    "    >>>  def function_name(arguments) :\n",
    "            \n",
    "            # logics or body of function\n",
    "            \n",
    "            return  result expression \n",
    "\n",
    "\n",
    "\n",
    " #############      ############    Using Lambda    ##############    ##############\n",
    "\n",
    " =>  Lambda functions does not include a “return” statement but always contains an expression which is returned.\n",
    "\n",
    " =>  We can also put a lambda definition anywhere a function is expected, \n",
    "\n",
    " =>  Lambda functions can be used along with built-in functions like filter(), map() and reduce().\n",
    "    \n",
    "        >>>  lambda arguments: logics or body\n",
    "    "
   ]
  },
  {
   "cell_type": "code",
   "execution_count": null,
   "metadata": {},
   "outputs": [],
   "source": [
    "     #############     ##############      filter()    ##############    ###############\n",
    "    \n",
    " =>  filter() function takes a function and an iterable as its argument.\n",
    "\n",
    " =>  This function maps a function condition with iterable objects and return Boolean values.\n",
    "\n",
    " =>  filter() filters out only the True value and generate a filter object with objects that return \n",
    "        True values only.\n",
    "\n",
    " =>  filter objects are iterator objects and also behaves like generator.\n",
    "    \n",
    "     syntax ->   filter(function, iterable)  -->  filter object"
   ]
  },
  {
   "cell_type": "code",
   "execution_count": null,
   "metadata": {},
   "outputs": [],
   "source": [
    "    ##############    ##############   map() function    #############     #############     #############\n",
    "    \n",
    " => map() function takes a function and an iterable as arguments.\n",
    "\n",
    " => It maps the iterable object with the function and generates a map object.\n",
    "    \n",
    " => This map object can be wrapped up by using list(), set(), tuple() etc.\n",
    "\n",
    " => map object is bydefault an iterator object and behaves like a generator.\n",
    " \n",
    "      \n",
    "     =>  Syntax ->  map(function, iterable) "
   ]
  },
  {
   "cell_type": "code",
   "execution_count": null,
   "metadata": {},
   "outputs": [],
   "source": [
    "     ##############    ################    Reduce() function    ############   ################\n",
    "\n",
    " =>  The reduce() function comes under 'functools' module. \n",
    "\n",
    " =>  This takes a function and an iterable object as argument.\n",
    "    \n",
    " =>  Iterable object inside the reduce() only allows 2 arguments.\n",
    "    \n",
    " =>  reduce() does aggregation and on the iterable objects and return a final answer.\n"
   ]
  },
  {
   "cell_type": "code",
   "execution_count": null,
   "metadata": {},
   "outputs": [],
   "source": [
    "# Python code to illustrate reduce() with lambda() to get sum of a list \n",
    "\n",
    "from functools import reduce\n",
    "\n",
    "list = [5, 8, 10, 20, 50, 100] \n",
    "\n",
    "sum = reduce((lambda x, y: x + y), list) \n",
    "\n",
    "print (sum) \n"
   ]
  },
  {
   "cell_type": "code",
   "execution_count": null,
   "metadata": {},
   "outputs": [],
   "source": [
    "    #############    ###########   Python Methods vs Python Functions    ###############     ###############\n",
    "    \n",
    " =>  Method is called by its name, but it is associated to an object (dependent).\n",
    "\n",
    " =>  A method is implicitly passed the object on which it is invoked.\n",
    "\n",
    " =>  It may or may not return any data.\n",
    "\n",
    " =>  A method can operate on the data (instance variables) that is contained by the corresponding class.\n",
    "    \n",
    "       \n",
    " =>  Basic Python method  \n",
    "        \n",
    "        class class_name \n",
    "            def method_name () : \n",
    "                ...... \n",
    "                # method body\n",
    "                ......   \n",
    "                "
   ]
  },
  {
   "cell_type": "code",
   "execution_count": null,
   "metadata": {},
   "outputs": [],
   "source": [
    " =>  Function is block of code that is also called by its name. (independent).\n",
    "    \n",
    " =>  The function can have different parameters or may not have any at all. If any data (parameters) are passed, \n",
    "        they are passed explicitly.\n",
    "\n",
    " =>  It may or may not return any data.\n",
    "\n",
    " =>  Function does not deal with Class and its instance concept."
   ]
  },
  {
   "cell_type": "code",
   "execution_count": null,
   "metadata": {},
   "outputs": [],
   "source": [
    "# Basic Function structure\n",
    "\n",
    "def function_name ( arg1, arg2, ...) : \n",
    "\t...... \n",
    "\t# function body \n",
    "\t...... \n"
   ]
  },
  {
   "cell_type": "code",
   "execution_count": null,
   "metadata": {},
   "outputs": [],
   "source": [
    "       #############    ########   Differences  ###########    ##############\n",
    "\n",
    " \n",
    " =>  Simply, function and method both look similar as they perform in almost similar way,\n",
    "    \n",
    " =>  But the key difference is the concept of ‘Class and its Object‘.\n",
    "\n",
    " =>  Functions can be called only by its name, as it is defined independently.\n",
    "    \n",
    " =>  But methods can’t be called by its name only, we need to invoke the class by a reference of that class \n",
    "       in which it is defined, \n",
    "     i.e. method is defined within a class and hence they are dependent on that class."
   ]
  },
  {
   "cell_type": "code",
   "execution_count": null,
   "metadata": {},
   "outputs": [],
   "source": [
    "    ############     #############    Python return Statement   #############    ############    ##############\n",
    "    \n",
    " =>  A return statement is used to end the execution of the function call and “returns” the result \n",
    "      (value of the expression following the return keyword) to the caller. \n",
    "\n",
    " =>  The statements after the return statements are not executed. \n",
    "\n",
    " =>  If the return statement is without any expression, then the special value None is returned.\n",
    "\n",
    " =>  Note: Return statement can not be used outside the function.\n",
    "        \n",
    " \n",
    " =>  Syntax -->    def fun():\n",
    "                       statements\n",
    "                       .\n",
    "                       .\n",
    "                       return [expression] \n",
    "            "
   ]
  },
  {
   "cell_type": "code",
   "execution_count": null,
   "metadata": {},
   "outputs": [],
   "source": [
    "       ##########   #########   Returning Multiple Values   ###############    ################\n",
    "    \n",
    " =>  Using Class object -->>  We can create a class to hold multiple values and return an object of the class.\n",
    "\n",
    " =>  Using Tuple  -->>  A Tuple is a comma separated sequence of items. It is created with or without (). \n",
    "    \n",
    " =>  Using List   -->>  A list is like an array of items created using square brackets. \n",
    "                          They are different from arrays as they can contain items of different types.\n",
    "                           Lists are different from tuples as they are mutable.\n",
    "        \n",
    " =>  Using Dictionary -->>  A Dictionary is similar to hash or map in other languages."
   ]
  },
  {
   "cell_type": "code",
   "execution_count": null,
   "metadata": {},
   "outputs": [],
   "source": [
    "# A Python program to return multiple values from a function using sequence\n",
    "\n",
    "# Define a function to create and return a sequence\n",
    "def fun(): \n",
    "    Tuple = (10, 25)\n",
    "    return Tuple \n",
    "\n",
    "# Driver code to test above method \n",
    "A, B = fun() # Assign returned tuple \n",
    "\n",
    "# Printing the variables\n",
    "print (A, B, sep = \" & \")"
   ]
  },
  {
   "cell_type": "code",
   "execution_count": null,
   "metadata": {},
   "outputs": [],
   "source": [
    "   ############   ########   Iteratorators and Generators in Python   #########    ############"
   ]
  },
  {
   "cell_type": "code",
   "execution_count": null,
   "metadata": {},
   "outputs": [],
   "source": [
    " =>  Iterable object are such type of objects, which contain elements in form of indexes.\n",
    "    \n",
    " =>  Strings, Lists, Tuples, Set, Dictionary all are an iterable object.\n",
    "\n",
    " =>  An Iterable object can become an iterator object by using iter() method.\n",
    "    \n",
    " =>  Iterator Objects are such object or a dataset, which can be extracted and printed one-by-one \n",
    "         using next() method. \n",
    "    \n",
    " =>  All Iterator objects are iterable, but all iterable objects are not an iterator.\n",
    "\n",
    " =>  iter(iterable_object)  ->   This return an iterator object.\n",
    "\n",
    " =>  next(iterator_object)  ->   This extracts and print dataset one-by-one."
   ]
  },
  {
   "cell_type": "code",
   "execution_count": null,
   "metadata": {},
   "outputs": [],
   "source": [
    "=>  for loop uses iter() aqnd next() methods in background to iterate over iterator objects.\n",
    "    \n",
    " =>  After exhausting of elements in iteration, next() raises a StopIteration error, but for loop does not.\n",
    "\n",
    " =>  iter(object) is used to check if an object is iterable or not.\n",
    "    \n",
    " =>  next(object) is used to check if an object is iterator or not."
   ]
  },
  {
   "cell_type": "code",
   "execution_count": null,
   "metadata": {},
   "outputs": [],
   "source": [
    "      #############    ############   Generator Functions in Python    #############    #############\n",
    "    \n",
    " =>  Generator function generates a dataset or a generator object.\n",
    "\n",
    " =>  Generator function is generated by similar to a Normal def function, but yield is used instead of return.\n",
    "    \n",
    " =>  Generator object is not an iterator object by default and we uses iter() and next for extracting \n",
    "        dataset one-by-one from object.\n",
    "\n",
    " =>  range() is a generator function or object."
   ]
  },
  {
   "cell_type": "code",
   "execution_count": null,
   "metadata": {},
   "outputs": [],
   "source": [
    "   #############    #############   Yield Instead of return   #############    #############    #############\n",
    "    \n",
    " =>  The yield statement suspends function’s execution and sends a value back to the caller, \n",
    "        but retains enough state to enable function to resume where it is left off. \n",
    "    \n",
    " =>  When resumed, the function continues execution immediately after the last yield run.\n",
    "\n",
    " =>  This allows its code to produce a series of values over time, rather than computing them at once and \n",
    "      sending them back like a list.\n",
    "        \n",
    " =>  We should use yield when we want to iterate over a sequence, but don’t want to store the entire sequence \n",
    "      in memory.\n",
    " \n",
    " =>  Return sends a specified value back to its caller whereas Yield can produce a sequence of values. "
   ]
  },
  {
   "cell_type": "code",
   "execution_count": 6,
   "metadata": {},
   "outputs": [
    {
     "name": "stdout",
     "output_type": "stream",
     "text": [
      "0\n",
      "1\n",
      "8\n",
      "27\n",
      "64\n",
      "125\n"
     ]
    }
   ],
   "source": [
    "# Python program to generate a generator object\n",
    "\n",
    "def gencube(n) :\n",
    "    \n",
    "    for i in range(n) :\n",
    "        yield i ** 3\n",
    "        \n",
    "# iterating over gencube()        \n",
    "for cubes in gencube(6):\n",
    "    print(cubes)"
   ]
  },
  {
   "cell_type": "code",
   "execution_count": 10,
   "metadata": {},
   "outputs": [
    {
     "name": "stdout",
     "output_type": "stream",
     "text": [
      "1, 1, 2, 3, 5, 8, 13, 21, 34, 55, "
     ]
    }
   ],
   "source": [
    "# Python program to generate Fibonaccy sequence\n",
    "\n",
    "def genfib(n):\n",
    "    a = 1\n",
    "    b = 1\n",
    "    for i in range(n):\n",
    "        yield a\n",
    "        a, b = b, a+b\n",
    "        \n",
    "# Extracting datasets from genfib()\n",
    "for numbers in genfib(10):\n",
    "    print (numbers, end = \", \")"
   ]
  },
  {
   "cell_type": "code",
   "execution_count": null,
   "metadata": {},
   "outputs": [],
   "source": []
  }
 ],
 "metadata": {
  "kernelspec": {
   "display_name": "Python 3",
   "language": "python",
   "name": "python3"
  },
  "language_info": {
   "codemirror_mode": {
    "name": "ipython",
    "version": 3
   },
   "file_extension": ".py",
   "mimetype": "text/x-python",
   "name": "python",
   "nbconvert_exporter": "python",
   "pygments_lexer": "ipython3",
   "version": "3.7.7"
  }
 },
 "nbformat": 4,
 "nbformat_minor": 4
}
