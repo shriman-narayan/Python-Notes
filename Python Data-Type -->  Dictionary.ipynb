{
 "cells": [
  {
   "cell_type": "code",
   "execution_count": null,
   "metadata": {},
   "outputs": [],
   "source": [
    "  #########  ##########   ########  Dictionary   #########   #########   ###########   ############"
   ]
  },
  {
   "cell_type": "code",
   "execution_count": null,
   "metadata": {},
   "outputs": [],
   "source": [
    " =>  Dictionary in python is defined as an unordered collection of data values in the form of [key : value] pair.\n",
    "     \n",
    " =>  [Key : value] is provided in the dictionary to make it more optimized.\n",
    "     \n",
    " =>  Dictionary holds a pair of values, one being the Key and the other corresponding pair element\n",
    "         being its [Key : value]. \n",
    "\n",
    " =>  Values in a dictionary can be of any datatype and can be duplicated whereas keys can’t be repeated and\n",
    "       must be immutable.\n",
    "    \n",
    " =>  If there are duplicate keys passing in a dictionary, it only takes the last occurrence of duplicated key. \n",
    "    \n",
    " =>  Ways to create a dictionary -\n",
    "\n",
    "       * dict([key : value] pairs) ->  This return a dictionary with passed [key : value] pairs.\n",
    "      \n",
    "       * {[key : value] / mapping}  ->  This return a dictionary with given [key : value] pairs or the mapping.\n",
    "    \n",
    "    NOTE -> If no argument is given in above dict() method and {}, we gets an Empty dictionary.\n",
    "    "
   ]
  },
  {
   "cell_type": "code",
   "execution_count": null,
   "metadata": {},
   "outputs": [],
   "source": [
    "#               #       Adding Key:values to dictionary         #             #"
   ]
  },
  {
   "cell_type": "code",
   "execution_count": null,
   "metadata": {},
   "outputs": [],
   "source": [
    "#          #      Accessing the key:values of a dictionary         #          #\n",
    "\n",
    " => Keys (inside square brackets) can be used to access the items of a  dictionary.\n",
    "\n",
    "      >>> Dict['key1']  -->  This access the value of ['Key1'] key .\n",
    "        \n",
    " =>  There is also a method called get() that will also help in acessing the element from a dictionary.\n",
    "\n",
    "      >>> Dict.get('key1')   -->  This access the value of ['Key1'] key .\n",
    "    \n",
    " =>  Dict['key1'] = 'value1', 'value2', 'value3' -->  This adds or updates values to a key of dictionary."
   ]
  },
  {
   "cell_type": "code",
   "execution_count": null,
   "metadata": {},
   "outputs": [],
   "source": [
    "#           #           Nested Dictionary  in Python           #               #\n",
    "\n",
    " =>  A nested dictionary is a dictionary inside a dictionary. \n",
    "     \n",
    " =>  It's a collection of dictionaries into one single dictionary.\n",
    "        \n",
    "        nested_dict = { 'dictA': {'key_1': 'value_1'}, 'dictB': {'key_2': 'value_2'}}\n",
    "\n",
    " =>  Nested dictionary is an unordered collection of dictionary.\n",
    " \n",
    " =>  Slicing Nested Dictionary is not possible.\n",
    "\n",
    " =>  nested_dict['dictA']['key_1']   -->  This access the items of a nested dictionary."
   ]
  },
  {
   "cell_type": "markdown",
   "metadata": {},
   "source": [
    "<img src=\"images/nested-dictionary.png\">"
   ]
  },
  {
   "cell_type": "code",
   "execution_count": null,
   "metadata": {},
   "outputs": [],
   "source": [
    "#  Python propgram to create a nested Dictionary\n",
    "\n",
    "people = {1: {'name': 'John', 'age': '27', 'sex': 'Male'},\n",
    "          2: {'name': 'Marie', 'age': '22', 'sex': 'Female'}}\n",
    "\n",
    "print(people)"
   ]
  },
  {
   "cell_type": "code",
   "execution_count": null,
   "metadata": {},
   "outputs": [],
   "source": [
    "#  Python program to using 'del' keyword to deleting the key:values\n",
    "\n",
    " =>  'del' keyword is used to delete the [key:values] of a dictionary and nested dictionary.\n",
    "\n",
    " =>  'del' keywordis used to delete the entire dictionary and hence printing it after deletion will raise an Error."
   ]
  },
  {
   "cell_type": "code",
   "execution_count": null,
   "metadata": {},
   "outputs": [],
   "source": [
    " #           #        Some more Dictionary built-in methods        #              #"
   ]
  },
  {
   "cell_type": "markdown",
   "metadata": {},
   "source": [
    "<img src=\"images/dict-methods.png\">"
   ]
  },
  {
   "cell_type": "code",
   "execution_count": null,
   "metadata": {},
   "outputs": [],
   "source": [
    " =>  Copy() makes a shallow copy of dictionary.\n",
    "       e.g., dict.copy()\n",
    " \n",
    " =>  clear() removes all the items from a dictionary and will return a 'None' type.\n",
    "       e.g.  dict.clear()"
   ]
  },
  {
   "cell_type": "code",
   "execution_count": null,
   "metadata": {},
   "outputs": [],
   "source": [
    ">>> sum(dict)  --->  This returns the sum of keys of dictionary passing thru.\n",
    "                              \n",
    "                    i.e.,  sum(dict) -->  'k1' + 'k2' + 'k3' + ... + 'kn'\n",
    "        \n",
    ">>> sum(dict[k]) --->  This returns the sum of all items of the 'value' regarding key 'k' . \n",
    "        "
   ]
  },
  {
   "cell_type": "code",
   "execution_count": null,
   "metadata": {},
   "outputs": [],
   "source": [
    "     \n",
    " =>  pop(key) -> This removes the specified key and returns its value and raises a KeyError, if that key not exists.\n",
    " \n",
    "        >>> dict.pop(key)\n",
    "        \n",
    " =>  Popitem() -> This removes the last key of a dictionary and return that [key: value] pair and dont takes \n",
    "                  any argument. If dictionary is empty, it will raise an error.\n",
    "      \n",
    "        >>>  dict.popitem()"
   ]
  },
  {
   "cell_type": "code",
   "execution_count": null,
   "metadata": {},
   "outputs": [],
   "source": [
    " =>  get() -> This is used to access the value of given key. If that specified key is not in the dictionary, \n",
    "                it will return a default 'None' type value.   \n",
    "\n",
    "        >>> dict.get(key)"
   ]
  },
  {
   "cell_type": "code",
   "execution_count": null,
   "metadata": {},
   "outputs": [],
   "source": [
    " =>  dict.values() is used to return a list of all the values of dictionary. \n",
    "         \n",
    "    >>> dict.values()"
   ]
  },
  {
   "cell_type": "code",
   "execution_count": null,
   "metadata": {},
   "outputs": [],
   "source": [
    " => str(dict) is used to transform a dictionary into string.\n",
    "    \n",
    "       >>> str(dict)"
   ]
  },
  {
   "cell_type": "code",
   "execution_count": null,
   "metadata": {},
   "outputs": [],
   "source": [
    " =>  dict.keys() is used to return a list of all keys of dictionaries.\n",
    "          \n",
    "          >>> dict.keys()\n",
    "    \n",
    " => [ >>>  'key' in dict  ] -> This is used to check if akey is present in dictionary or not.\n",
    "    \n",
    " \n",
    " =>  dict.items() is used to return all items (key: value) in tuple pairs.\n",
    "        \n",
    "             >>>  dict.items()\n",
    "    \n",
    " =>  dict.fromkeys('key', value) is used to create a new dictionary from key as an iterable and value.\n",
    "\n",
    "             >>>  dict.fromkeys('key', value = None)\n",
    " \n",
    " =>  dict1.update(dict2) is used to add all the items(key: values) from dict2 in dict1.\n",
    "\n",
    "             >>>  dict1.update(dict2)"
   ]
  },
  {
   "cell_type": "code",
   "execution_count": null,
   "metadata": {},
   "outputs": [],
   "source": [
    " =>  dict.setdefault(key) works in 2 way....\n",
    "    \n",
    "     *  If key is already in dictionary ==>  This will return that key's value\n",
    "     *  If key is not in dictionary  ==>     This will add that key with a default value 'None' in dictionary."
   ]
  },
  {
   "cell_type": "code",
   "execution_count": null,
   "metadata": {},
   "outputs": [],
   "source": [
    " =>  sum(dict)  --->  This returns the sum of keys of dictionary passing thru.\n",
    "                              \n",
    "        i.e.,  sum(dict) -->  'k1' + 'k2' + 'k3' + ... + 'kn'\n",
    "        \n",
    "        \n",
    " =>  sum(dict[k]) --->  This returns the sum of all items of the 'value' regarding key 'k'."
   ]
  },
  {
   "cell_type": "markdown",
   "metadata": {},
   "source": [
    "[For Python Documentation Over Dictionaries, CLICK HERE](https://docs.python.org/3/tutorial/datastructures.html#dictionaries)"
   ]
  }
 ],
 "metadata": {
  "kernelspec": {
   "display_name": "Python 3",
   "language": "python",
   "name": "python3"
  },
  "language_info": {
   "codemirror_mode": {
    "name": "ipython",
    "version": 3
   },
   "file_extension": ".py",
   "mimetype": "text/x-python",
   "name": "python",
   "nbconvert_exporter": "python",
   "pygments_lexer": "ipython3",
   "version": "3.7.7"
  }
 },
 "nbformat": 4,
 "nbformat_minor": 4
}
